{
 "cells": [
  {
   "cell_type": "markdown",
   "metadata": {},
   "source": [
    "# A straight waveguide\n",
    "For our first example, let's examine the field pattern excited by a localized continuous wave (CW) source in a waveguide — first straight, then bent. The waveguide will have frequency-independent $\\epsilon$=12 and width 1 $\\mu$m. The unit length in this example is 1 $\\mu$m. See also Units.\n",
    "\n",
    "The first thing to do always is to load the Meep library, along with any other library we may need for post processing or visualization:"
   ]
  },
  {
   "cell_type": "code",
   "execution_count": 1,
   "metadata": {},
   "outputs": [],
   "source": [
    "import meep as mp"
   ]
  },
  {
   "cell_type": "markdown",
   "metadata": {},
   "source": [
    "## Simulation Domain\n",
    "\n",
    "We can begin specifying each of the simulation objects starting with the computational cell. \n",
    "\n",
    "We're going to put a source at one end and watch the fields propagate down the waveguide in the $x$ direction, so let's use a cell of length 16 $\\mu$m in the $x$ direction to give it some distance to propagate. In the $y$ direction, we just need enough room so that the boundaries do not affect the waveguide mode; let's give it a size of 8 $\\mu$m."
   ]
  },
  {
   "cell_type": "code",
   "execution_count": 2,
   "metadata": {},
   "outputs": [],
   "source": [
    "cell = mp.Vector3(16, 16, 16)"
   ]
  },
  {
   "cell_type": "markdown",
   "metadata": {},
   "source": [
    "The `Vector3` object stores the size of the cell in each of the three coordinate directions. This is a 2d cell in $x$ and $y$ where the $z$ direction has size 0. All 2D simulations must lie in the XY plane, as we've specified."
   ]
  },
  {
   "cell_type": "markdown",
   "metadata": {},
   "source": [
    "## Geometry\n",
    "Next we add the waveguide. Most commonly, the device structure is specified by a set of `GeometricObjects` stored in the `geometry` object."
   ]
  },
  {
   "cell_type": "code",
   "execution_count": 3,
   "metadata": {},
   "outputs": [],
   "source": [
    "geometry = []"
   ]
  },
  {
   "cell_type": "markdown",
   "metadata": {},
   "source": [
    "The waveguide is specified by a Block (parallelepiped) of size $\\infty \\times 1 \\times \\infty$, with $\\epsilon$=12, centered at (0,0) which is the center of the cell. By default, any place where there are no objects there is air ($\\epsilon$=1), although this can be changed by setting the `default_material` variable (shown below)."
   ]
  },
  {
   "cell_type": "markdown",
   "metadata": {},
   "source": [
    "## Sources\n",
    "We have the structure and need to specify the current sources using the `sources` object. The simplest thing is to add a single point source $J_z$:"
   ]
  },
  {
   "cell_type": "code",
   "execution_count": 4,
   "metadata": {},
   "outputs": [],
   "source": [
    "sources = [\n",
    "    mp.Source(\n",
    "        mp.ContinuousSource(frequency=0.15), component=mp.Ez, center=mp.Vector3(0, 0, 0)\n",
    "    )\n",
    "]"
   ]
  },
  {
   "cell_type": "markdown",
   "metadata": {},
   "source": [
    "We gave the source a frequency of 0.15, and specified a `ContinuousSource` which is just a fixed-frequency sinusoid exp($−i\\omega t$) that by default is turned on at $t=0$. \n",
    "\n",
    "Recall that, in Meep units, frequency is specified in units of $2\\pi c$, which is equivalent to the inverse of the vacuum wavelength. Thus, 0.15 corresponds to a vacuum wavelength of about 1/0.15=6.67 μm, or a wavelength of about 2 μm in the ε=12 material — thus, our waveguide is half a wavelength wide, which should hopefully make it single mode. In fact, the cutoff for single-mode behavior in this waveguide is analytically solvable, and corresponds to a frequency of $\\frac{1}{2\\sqrt{11}}$ or roughly 0.15076. \n",
    "\n",
    "Note also that to specify a $J_z$, we specify a component `Ez` (e.g., if we wanted a magnetic current, we would specify `Hx`, `Hy`, or `Hz`). \n",
    "\n",
    "The current is located at (-7,0), which is 1 $\\mu$m to the right of the left edge of the cell — we always want to leave a little space between sources and the cell boundaries, to keep the boundary conditions from interfering with them."
   ]
  },
  {
   "cell_type": "markdown",
   "metadata": {},
   "source": [
    "## Boundary layers\n",
    "As for boundary conditions, we want to add absorbing boundaries around our cell. \n",
    "\n",
    "Absorbing boundaries in Meep are handled by perfectly matched layers (PML) — which aren't really a boundary condition at all, but rather a fictitious absorbing material added around the edges of the cell. To add an absorbing layer of thickness 1 $\\mu$m around all sides of the cell, we do:"
   ]
  },
  {
   "cell_type": "code",
   "execution_count": 5,
   "metadata": {},
   "outputs": [],
   "source": [
    "pml_layers = [mp.PML(1.0)]"
   ]
  },
  {
   "cell_type": "markdown",
   "metadata": {},
   "source": [
    "`pml_layers` is a `list` of `PML` objects — you may have more than one `PML` object if you want `PML` layers only on certain sides of the cell. For example, `mp.PML(thickness=1.0,direction=mp.X,side=mp.high)` specifies a `PML` layer on only the `+x` side. \n",
    "\n",
    "An important point: the PML layer is inside the cell, overlapping whatever objects you have there. So, in this case our PML overlaps our waveguide, which is what we want so that it will properly absorb waveguide modes. \n",
    "\n",
    "The finite thickness of the PML is important to reduce numerical reflections. For more information, see Perfectly Matched Layer."
   ]
  },
  {
   "cell_type": "markdown",
   "metadata": {},
   "source": [
    "## Resolution\n",
    "Meep will discretize this structure in space and time, and that is specified by a single variable, `resolution`, that gives the number of pixels per distance unit. \n",
    "\n",
    "We'll set this resolution to 10 pixels/μm, which corresponds to around 67 pixels/wavelength, or around 20 pixels/wavelength in the high-index material. In general, at least 8 pixels/wavelength in the highest dielectric is a good idea. This will give us a 160×80 cell."
   ]
  },
  {
   "cell_type": "code",
   "execution_count": 6,
   "metadata": {},
   "outputs": [],
   "source": [
    "resolution = 10"
   ]
  },
  {
   "cell_type": "markdown",
   "metadata": {},
   "source": [
    "## Simulation Object\n",
    "\n",
    "The final object to specify is `Simulation` which is based on all the previously defined objects:"
   ]
  },
  {
   "cell_type": "code",
   "execution_count": 7,
   "metadata": {},
   "outputs": [],
   "source": [
    "sim = mp.Simulation(\n",
    "    cell_size=cell,\n",
    "    boundary_layers=pml_layers,\n",
    "    geometry=geometry,\n",
    "    sources=sources,\n",
    "    resolution=resolution,\n",
    ")"
   ]
  },
  {
   "cell_type": "markdown",
   "metadata": {},
   "source": [
    "## Visualization\n",
    "Before we actually run our simulation, we often want to visualize the entire domain to ensure that the geometry, source, boundary layers, and even monitors are all correct.\n",
    "\n",
    "We can create a figure using `matplotlib`, and pass the figure axis to the `plot2D` function. This function plots all of the relevant simulation objects in the passed axis handle. Any arbitrary slice may be specified. The default is through `z=0`."
   ]
  },
  {
   "cell_type": "code",
   "execution_count": 22,
   "metadata": {},
   "outputs": [
    {
     "data": {
      "image/png": "[encoded data removed]",
      "text/plain": [
       "<Figure size 640x480 with 1 Axes>"
      ]
     },
     "metadata": {},
     "output_type": "display_data"
    }
   ],
   "source": [
    "from matplotlib import pyplot as plt\n",
    "\n",
    "vol = mp.Volume(mp.Vector3(0.0,0.0,0.0), mp.Vector3(8.0,8.0,0.0))\n",
    "\n",
    "%matplotlib inline\n",
    "plt.figure(dpi=100)\n",
    "sim.plot2D(fields=mp.Ez, output_plane=vol)\n",
    "plt.show()"
   ]
  },
  {
   "cell_type": "markdown",
   "metadata": {},
   "source": [
    "The green boxes represent the PML boundary layers. The black line through the middle is our waveguide. The red dot is our source.\n",
    "\n",
    "Everything looks like we would expect, so let's run the simulation."
   ]
  },
  {
   "cell_type": "markdown",
   "metadata": {},
   "source": [
    "## Simulate\n",
    "We are ready to run the simulation. We time step the fields until a time of 200:"
   ]
  },
  {
   "cell_type": "code",
   "execution_count": 9,
   "metadata": {},
   "outputs": [
    {
     "name": "stdout",
     "output_type": "stream",
     "text": [
      "-----------\n",
      "Initializing structure...\n",
      "time for choose_chunkdivision = 0.000463963 s\n",
      "Working in 3D dimensions.\n",
      "Computational cell is 16 x 16 x 16 with resolution 10\n",
      "time for set_epsilon = 5.90905 s\n",
      "-----------\n"
     ]
    },
    {
     "data": {
      "application/vnd.jupyter.widget-view+json": {
       "model_id": "11dbdb076c8e41fca27717c00047bd8f",
       "version_major": 2,
       "version_minor": 0
      },
      "text/plain": [
       "FloatProgress(value=0.0, description='0% done ', max=200.0)"
      ]
     },
     "metadata": {},
     "output_type": "display_data"
    },
    {
     "name": "stdout",
     "output_type": "stream",
     "text": [
      "Meep progress: 0.05/200.0 = 0.0% done in 5.5s, 21963.5s to go\n",
      "on time step 1 (time=0.05), 5.48907 s/step\n",
      "Meep progress: 2.75/200.0 = 1.4% done in 9.5s, 682.9s to go\n",
      "on time step 55 (time=2.75), 0.0746058 s/step\n",
      "Meep progress: 5.5/200.0 = 2.8% done in 13.6s, 480.2s to go\n",
      "on time step 110 (time=5.5), 0.0737749 s/step\n",
      "Meep progress: 8.25/200.0 = 4.1% done in 17.6s, 409.6s to go\n",
      "on time step 165 (time=8.25), 0.0734706 s/step\n",
      "Meep progress: 11.05/200.0 = 5.5% done in 21.7s, 370.4s to go\n",
      "on time step 221 (time=11.05), 0.0721013 s/step\n",
      "Meep progress: 13.8/200.0 = 6.9% done in 25.7s, 346.3s to go\n",
      "on time step 276 (time=13.8), 0.0728331 s/step\n",
      "Meep progress: 16.55/200.0 = 8.3% done in 29.7s, 329.6s to go\n",
      "on time step 331 (time=16.55), 0.0739404 s/step\n",
      "Meep progress: 19.200000000000003/200.0 = 9.6% done in 33.8s, 318.2s to go\n",
      "on time step 384 (time=19.2), 0.0764698 s/step\n",
      "Meep progress: 21.950000000000003/200.0 = 11.0% done in 37.8s, 307.0s to go\n",
      "on time step 439 (time=21.95), 0.0738001 s/step\n",
      "Meep progress: 24.450000000000003/200.0 = 12.2% done in 41.9s, 300.6s to go\n",
      "on time step 489 (time=24.45), 0.0804233 s/step\n",
      "Meep progress: 27.200000000000003/200.0 = 13.6% done in 45.9s, 291.7s to go\n",
      "on time step 544 (time=27.2), 0.0736645 s/step\n",
      "Meep progress: 30.05/200.0 = 15.0% done in 49.9s, 282.4s to go\n",
      "on time step 601 (time=30.05), 0.0704611 s/step\n",
      "Meep progress: 32.95/200.0 = 16.5% done in 54.0s, 273.7s to go\n",
      "on time step 659 (time=32.95), 0.069738 s/step\n",
      "Meep progress: 35.800000000000004/200.0 = 17.9% done in 58.0s, 266.2s to go\n",
      "on time step 716 (time=35.8), 0.071039 s/step\n",
      "Meep progress: 38.45/200.0 = 19.2% done in 62.1s, 260.8s to go\n",
      "on time step 769 (time=38.45), 0.0761067 s/step\n",
      "Meep progress: 41.150000000000006/200.0 = 20.6% done in 66.1s, 255.1s to go\n",
      "on time step 823 (time=41.15), 0.0744735 s/step\n",
      "Meep progress: 43.800000000000004/200.0 = 21.9% done in 70.2s, 250.3s to go\n",
      "on time step 876 (time=43.8), 0.0772047 s/step\n",
      "Meep progress: 46.050000000000004/200.0 = 23.0% done in 74.2s, 248.0s to go\n",
      "on time step 921 (time=46.05), 0.0890322 s/step\n",
      "Meep progress: 48.2/200.0 = 24.1% done in 78.2s, 246.3s to go\n",
      "on time step 964 (time=48.2), 0.0932877 s/step\n",
      "Meep progress: 50.25/200.0 = 25.1% done in 82.2s, 245.0s to go\n",
      "on time step 1005 (time=50.25), 0.0978869 s/step\n",
      "Meep progress: 52.25/200.0 = 26.1% done in 86.2s, 243.9s to go\n",
      "on time step 1045 (time=52.25), 0.100506 s/step\n",
      "Meep progress: 54.45/200.0 = 27.2% done in 90.3s, 241.4s to go\n",
      "on time step 1089 (time=54.45), 0.092117 s/step\n",
      "Meep progress: 56.7/200.0 = 28.4% done in 94.4s, 238.5s to go\n",
      "on time step 1134 (time=56.7), 0.0902525 s/step\n",
      "Meep progress: 58.800000000000004/200.0 = 29.4% done in 98.4s, 236.2s to go\n",
      "on time step 1176 (time=58.8), 0.0954906 s/step\n",
      "Meep progress: 60.900000000000006/200.0 = 30.5% done in 102.4s, 233.8s to go\n",
      "on time step 1219 (time=60.95), 0.0949894 s/step\n",
      "Meep progress: 63.2/200.0 = 31.6% done in 106.4s, 230.3s to go\n",
      "on time step 1265 (time=63.25), 0.0878179 s/step\n",
      "Meep progress: 65.2/200.0 = 32.6% done in 110.5s, 228.4s to go\n",
      "on time step 1305 (time=65.25), 0.103233 s/step\n",
      "Meep progress: 67.05/200.0 = 33.5% done in 114.5s, 227.1s to go\n",
      "on time step 1343 (time=67.15), 0.107434 s/step\n",
      "Meep progress: 68.95/200.0 = 34.5% done in 118.5s, 225.3s to go\n",
      "on time step 1381 (time=69.05), 0.106324 s/step\n",
      "Meep progress: 70.95/200.0 = 35.5% done in 122.6s, 223.0s to go\n",
      "on time step 1422 (time=71.1), 0.0994374 s/step\n",
      "Meep progress: 73.4/200.0 = 36.7% done in 126.6s, 218.4s to go\n",
      "on time step 1471 (time=73.55), 0.0817979 s/step\n",
      "Meep progress: 76.05/200.0 = 38.0% done in 130.6s, 212.9s to go\n",
      "on time step 1524 (time=76.2), 0.0762994 s/step\n",
      "Meep progress: 78.7/200.0 = 39.4% done in 134.6s, 207.5s to go\n",
      "on time step 1578 (time=78.9), 0.0747993 s/step\n",
      "Meep progress: 81.45/200.0 = 40.7% done in 138.7s, 201.9s to go\n",
      "on time step 1632 (time=81.6), 0.0741975 s/step\n",
      "Meep progress: 84.15/200.0 = 42.1% done in 142.7s, 196.5s to go\n",
      "on time step 1686 (time=84.3), 0.0741524 s/step\n",
      "Meep progress: 86.95/200.0 = 43.5% done in 146.8s, 190.8s to go\n",
      "on time step 1742 (time=87.1), 0.0721844 s/step\n",
      "Meep progress: 89.7/200.0 = 44.9% done in 150.8s, 185.5s to go\n",
      "on time step 1797 (time=89.85), 0.0738721 s/step\n",
      "Meep progress: 92.5/200.0 = 46.2% done in 154.9s, 180.0s to go\n",
      "on time step 1853 (time=92.65), 0.0727578 s/step\n",
      "Meep progress: 95.25/200.0 = 47.6% done in 158.9s, 174.8s to go\n",
      "on time step 1908 (time=95.4), 0.0727331 s/step\n",
      "Meep progress: 98.10000000000001/200.0 = 49.1% done in 162.9s, 169.2s to go\n",
      "on time step 1965 (time=98.25), 0.0705227 s/step\n",
      "Meep progress: 100.9/200.0 = 50.5% done in 167.0s, 164.0s to go\n",
      "on time step 2021 (time=101.05), 0.072923 s/step\n",
      "Meep progress: 103.65/200.0 = 51.8% done in 171.0s, 159.0s to go\n",
      "on time step 2076 (time=103.8), 0.0729569 s/step\n",
      "Meep progress: 106.5/200.0 = 53.2% done in 175.1s, 153.7s to go\n",
      "on time step 2133 (time=106.65), 0.070684 s/step\n",
      "Meep progress: 109.4/200.0 = 54.7% done in 179.1s, 148.3s to go\n",
      "on time step 2191 (time=109.55), 0.0701492 s/step\n",
      "Meep progress: 112.25/200.0 = 56.1% done in 183.2s, 143.2s to go\n",
      "on time step 2247 (time=112.35), 0.0714346 s/step\n",
      "Meep progress: 115.10000000000001/200.0 = 57.6% done in 187.3s, 138.1s to go\n",
      "on time step 2303 (time=115.15), 0.071522 s/step\n",
      "Meep progress: 117.80000000000001/200.0 = 58.9% done in 191.3s, 133.5s to go\n",
      "on time step 2357 (time=117.85), 0.0750155 s/step\n",
      "Meep progress: 120.60000000000001/200.0 = 60.3% done in 195.3s, 128.6s to go\n",
      "on time step 2413 (time=120.65), 0.0716752 s/step\n",
      "Meep progress: 122.9/200.0 = 61.5% done in 199.4s, 125.1s to go\n",
      "on time step 2459 (time=122.95), 0.0885389 s/step\n",
      "Meep progress: 125.15/200.0 = 62.6% done in 203.4s, 121.7s to go\n",
      "on time step 2504 (time=125.2), 0.0901235 s/step\n",
      "Meep progress: 127.35000000000001/200.0 = 63.7% done in 207.5s, 118.4s to go\n",
      "on time step 2548 (time=127.4), 0.0912772 s/step\n",
      "Meep progress: 129.45000000000002/200.0 = 64.7% done in 211.5s, 115.3s to go\n",
      "on time step 2590 (time=129.5), 0.0976929 s/step\n",
      "Meep progress: 131.65/200.0 = 65.8% done in 215.6s, 111.9s to go\n",
      "on time step 2634 (time=131.7), 0.0911319 s/step\n",
      "Meep progress: 133.75/200.0 = 66.9% done in 219.6s, 108.8s to go\n",
      "on time step 2676 (time=133.8), 0.0960929 s/step\n",
      "Meep progress: 136.0/200.0 = 68.0% done in 223.7s, 105.3s to go\n",
      "on time step 2721 (time=136.05), 0.0910119 s/step\n",
      "Meep progress: 138.5/200.0 = 69.2% done in 227.7s, 101.1s to go\n",
      "on time step 2772 (time=138.6), 0.079819 s/step\n",
      "Meep progress: 141.3/200.0 = 70.7% done in 231.7s, 96.3s to go\n",
      "on time step 2829 (time=141.45), 0.0712279 s/step\n",
      "Meep progress: 144.0/200.0 = 72.0% done in 235.8s, 91.7s to go\n",
      "on time step 2883 (time=144.15), 0.0751087 s/step\n",
      "Meep progress: 146.8/200.0 = 73.4% done in 239.8s, 86.9s to go\n",
      "on time step 2939 (time=146.95), 0.0723731 s/step\n",
      "Meep progress: 149.55/200.0 = 74.8% done in 243.9s, 82.3s to go\n",
      "on time step 2994 (time=149.7), 0.0737632 s/step\n",
      "Meep progress: 152.35/200.0 = 76.2% done in 247.9s, 77.5s to go\n",
      "on time step 3050 (time=152.5), 0.0716781 s/step\n",
      "Meep progress: 155.15/200.0 = 77.6% done in 252.0s, 72.8s to go\n",
      "on time step 3106 (time=155.3), 0.0725082 s/step\n",
      "Meep progress: 157.9/200.0 = 79.0% done in 256.0s, 68.3s to go\n",
      "on time step 3161 (time=158.05), 0.0734819 s/step\n",
      "Meep progress: 160.65/200.0 = 80.3% done in 260.1s, 63.7s to go\n",
      "on time step 3215 (time=160.75), 0.074193 s/step\n",
      "Meep progress: 163.3/200.0 = 81.7% done in 264.1s, 59.3s to go\n",
      "on time step 3269 (time=163.45), 0.0751306 s/step\n",
      "Meep progress: 165.95000000000002/200.0 = 83.0% done in 268.1s, 55.0s to go\n",
      "on time step 3322 (time=166.1), 0.0762035 s/step\n",
      "Meep progress: 168.75/200.0 = 84.4% done in 272.1s, 50.4s to go\n",
      "on time step 3378 (time=168.9), 0.0718601 s/step\n",
      "Meep progress: 171.60000000000002/200.0 = 85.8% done in 276.2s, 45.7s to go\n",
      "on time step 3435 (time=171.75), 0.0706519 s/step\n",
      "Meep progress: 174.4/200.0 = 87.2% done in 280.2s, 41.1s to go\n",
      "on time step 3492 (time=174.6), 0.0710712 s/step\n",
      "Meep progress: 177.3/200.0 = 88.7% done in 284.2s, 36.4s to go\n",
      "on time step 3550 (time=177.5), 0.0694988 s/step\n",
      "Meep progress: 180.15/200.0 = 90.1% done in 288.2s, 31.8s to go\n",
      "on time step 3607 (time=180.35), 0.0709006 s/step\n",
      "Meep progress: 183.0/200.0 = 91.5% done in 292.3s, 27.1s to go\n",
      "on time step 3664 (time=183.2), 0.071057 s/step\n",
      "Meep progress: 185.8/200.0 = 92.9% done in 296.3s, 22.6s to go\n",
      "on time step 3720 (time=186), 0.0720726 s/step\n",
      "Meep progress: 188.60000000000002/200.0 = 94.3% done in 300.3s, 18.2s to go\n",
      "on time step 3776 (time=188.8), 0.0717521 s/step\n",
      "Meep progress: 191.45000000000002/200.0 = 95.7% done in 304.4s, 13.6s to go\n",
      "on time step 3833 (time=191.65), 0.0707111 s/step\n",
      "Meep progress: 194.25/200.0 = 97.1% done in 308.4s, 9.1s to go\n",
      "on time step 3889 (time=194.45), 0.0717347 s/step\n",
      "Meep progress: 197.05/200.0 = 98.5% done in 312.4s, 4.7s to go\n",
      "on time step 3945 (time=197.25), 0.0727438 s/step\n",
      "Meep progress: 199.60000000000002/200.0 = 99.8% done in 316.5s, 0.6s to go\n",
      "on time step 3996 (time=199.8), 0.0787534 s/step\n",
      "run 0 finished at t = 200.0 (4000 timesteps)\n"
     ]
    }
   ],
   "source": [
    "sim.run(until=200)"
   ]
  },
  {
   "cell_type": "markdown",
   "metadata": {},
   "source": [
    "It should finish in less than a second. We can analyze and visualize the fields using `plot2D`:"
   ]
  },
  {
   "cell_type": "code",
   "execution_count": 33,
   "metadata": {},
   "outputs": [
    {
     "data": {
      "image/png": "[encoded data removed]",
      "text/plain": [
       "<Figure size 640x480 with 1 Axes>"
      ]
     },
     "metadata": {},
     "output_type": "display_data"
    }
   ],
   "source": [
    "%matplotlib inline\n",
    "plt.figure(dpi=100)\n",
    "vol = mp.Volume(vertices=[mp.Vector3(-8.0,-8.0,0.0), mp.Vector3(8.0,-8.0,0.0),mp.Vector3(8.0,8.0,0.0), mp.Vector3(-8.0,8.0,0.0)])\n",
    "sim.plot2D(fields=mp.By, output_plane=vol)\n",
    "plt.show()"
   ]
  },
  {
   "cell_type": "markdown",
   "metadata": {},
   "source": [
    "We can see the `Ez` component of the fields superimposed on the previous domain plot. We can choose to plot any of the six field components specified earlier."
   ]
  },
  {
   "cell_type": "markdown",
   "metadata": {},
   "source": [
    "## Animation\n",
    "Often, we want to track the evolution of the fields as a function of time. This helps us ensure the fields are propogating as we would expect.\n",
    "\n",
    "We can easily accomplish this using a `run` function. Run functions are passed to the `sim.run()` method and can be called every time step. The `Animate2D()` run function can be used to generate an animation object by grabbing frames from an arbitrary number of time steps.\n",
    "\n",
    "We need to pass the `sim` object we created, specify which `fields` component we are interested in tracking, specify how often we want to record the fields, and whether to plot everything in real time. For this simulation, let's look at the `Ez` fields and take a snapshot every 1 time units. \n",
    "\n",
    "Unfortunately, Jupyter notebooks don't render realtime figure updates natively, so we'll turn this feature off and just view the animation after it runs.\n",
    "\n",
    "We also want to restart the field propogation by calling `reset_sim()`."
   ]
  },
  {
   "cell_type": "code",
   "execution_count": 36,
   "metadata": {},
   "outputs": [],
   "source": [
    "sim.reset_meep()\n",
    "f = plt.figure(dpi=100)\n",
    "Animate = mp.Animate2D(fields=mp.Ez, f=f, realtime=False, normalize=True, output_plane=vol)\n",
    "plt.close()"
   ]
  },
  {
   "cell_type": "markdown",
   "metadata": {},
   "source": [
    "Once defined, we can pass it along with our original argument, `until`. This time, however, we'll just run until 50 time units. We'll tell meep to record the field information every 1 time unit by using the `at_every()` run function modifier."
   ]
  },
  {
   "cell_type": "code",
   "execution_count": 27,
   "metadata": {},
   "outputs": [
    {
     "name": "stdout",
     "output_type": "stream",
     "text": [
      "-----------\n",
      "Initializing structure...\n",
      "time for choose_chunkdivision = 0.00181699 s\n",
      "Working in 3D dimensions.\n",
      "Computational cell is 16 x 16 x 16 with resolution 10\n",
      "time for set_epsilon = 5.95244 s\n",
      "-----------\n"
     ]
    },
    {
     "data": {
      "application/vnd.jupyter.widget-view+json": {
       "model_id": "5df263ef28444d36907c08f45fcbfbd8",
       "version_major": 2,
       "version_minor": 0
      },
      "text/plain": [
       "FloatProgress(value=0.0, description='0% done ')"
      ]
     },
     "metadata": {},
     "output_type": "display_data"
    },
    {
     "name": "stdout",
     "output_type": "stream",
     "text": [
      "Meep progress: 0.05/100.0 = 0.1% done in 5.9s, 11697.2s to go\n",
      "on time step 1 (time=0.05), 5.84563 s/step\n",
      "Meep progress: 2.7/100.0 = 2.7% done in 9.9s, 357.1s to go\n",
      "on time step 54 (time=2.7), 0.0765294 s/step\n",
      "Meep progress: 5.550000000000001/100.0 = 5.6% done in 14.0s, 237.9s to go\n",
      "on time step 111 (time=5.55), 0.0714134 s/step\n",
      "Meep progress: 8.3/100.0 = 8.3% done in 18.0s, 199.4s to go\n",
      "on time step 166 (time=8.3), 0.0739562 s/step\n",
      "Meep progress: 11.05/100.0 = 11.1% done in 22.1s, 177.5s to go\n",
      "on time step 221 (time=11.05), 0.0727757 s/step\n",
      "Meep progress: 13.700000000000001/100.0 = 13.7% done in 26.1s, 164.4s to go\n",
      "on time step 274 (time=13.7), 0.0764387 s/step\n",
      "Meep progress: 16.35/100.0 = 16.4% done in 30.1s, 154.2s to go\n",
      "on time step 327 (time=16.35), 0.0762546 s/step\n",
      "Meep progress: 19.150000000000002/100.0 = 19.2% done in 34.2s, 144.4s to go\n",
      "on time step 383 (time=19.15), 0.0724417 s/step\n",
      "Meep progress: 21.950000000000003/100.0 = 22.0% done in 38.3s, 136.1s to go\n",
      "on time step 439 (time=21.95), 0.0724983 s/step\n",
      "Meep progress: 24.700000000000003/100.0 = 24.7% done in 42.3s, 128.9s to go\n",
      "on time step 494 (time=24.7), 0.0729114 s/step\n",
      "Meep progress: 27.5/100.0 = 27.5% done in 46.3s, 122.1s to go\n",
      "on time step 550 (time=27.5), 0.0722185 s/step\n",
      "Meep progress: 30.25/100.0 = 30.2% done in 50.4s, 116.2s to go\n",
      "on time step 605 (time=30.25), 0.073718 s/step\n",
      "Meep progress: 33.1/100.0 = 33.1% done in 54.4s, 110.0s to go\n",
      "on time step 662 (time=33.1), 0.0714398 s/step\n",
      "Meep progress: 35.800000000000004/100.0 = 35.8% done in 58.5s, 104.9s to go\n",
      "on time step 716 (time=35.8), 0.0747337 s/step\n",
      "Meep progress: 38.6/100.0 = 38.6% done in 62.5s, 99.5s to go\n",
      "on time step 772 (time=38.6), 0.0721717 s/step\n",
      "Meep progress: 41.35/100.0 = 41.4% done in 66.6s, 94.5s to go\n",
      "on time step 827 (time=41.35), 0.0739017 s/step\n",
      "Meep progress: 44.150000000000006/100.0 = 44.2% done in 70.6s, 89.3s to go\n",
      "on time step 883 (time=44.15), 0.071986 s/step\n",
      "Meep progress: 46.95/100.0 = 47.0% done in 74.6s, 84.3s to go\n",
      "on time step 939 (time=46.95), 0.0718273 s/step\n",
      "Meep progress: 49.75/100.0 = 49.8% done in 78.7s, 79.5s to go\n",
      "on time step 995 (time=49.75), 0.0724535 s/step\n",
      "Meep progress: 52.5/100.0 = 52.5% done in 82.7s, 74.8s to go\n",
      "on time step 1050 (time=52.5), 0.0730197 s/step\n",
      "Meep progress: 55.2/100.0 = 55.2% done in 86.8s, 70.4s to go\n",
      "on time step 1104 (time=55.2), 0.07528 s/step\n",
      "Meep progress: 57.95/100.0 = 58.0% done in 90.8s, 65.9s to go\n",
      "on time step 1159 (time=57.95), 0.0727476 s/step\n",
      "Meep progress: 60.75/100.0 = 60.8% done in 94.9s, 61.3s to go\n",
      "on time step 1215 (time=60.75), 0.0728532 s/step\n",
      "Meep progress: 63.5/100.0 = 63.5% done in 98.9s, 56.8s to go\n",
      "on time step 1270 (time=63.5), 0.0732574 s/step\n",
      "Meep progress: 66.25/100.0 = 66.2% done in 102.9s, 52.4s to go\n",
      "on time step 1325 (time=66.25), 0.0731099 s/step\n",
      "Meep progress: 69.05/100.0 = 69.0% done in 107.0s, 48.0s to go\n",
      "on time step 1381 (time=69.05), 0.07248 s/step\n",
      "Meep progress: 71.8/100.0 = 71.8% done in 111.0s, 43.6s to go\n",
      "on time step 1436 (time=71.8), 0.0733074 s/step\n",
      "Meep progress: 74.5/100.0 = 74.5% done in 115.0s, 39.4s to go\n",
      "on time step 1490 (time=74.5), 0.0746881 s/step\n",
      "Meep progress: 77.2/100.0 = 77.2% done in 119.1s, 35.2s to go\n",
      "on time step 1544 (time=77.2), 0.074404 s/step\n",
      "Meep progress: 79.9/100.0 = 79.9% done in 123.1s, 31.0s to go\n",
      "on time step 1598 (time=79.9), 0.0748494 s/step\n",
      "Meep progress: 82.7/100.0 = 82.7% done in 127.2s, 26.6s to go\n",
      "on time step 1654 (time=82.7), 0.0722814 s/step\n",
      "Meep progress: 85.45/100.0 = 85.5% done in 131.2s, 22.3s to go\n",
      "on time step 1709 (time=85.45), 0.0735905 s/step\n",
      "Meep progress: 88.2/100.0 = 88.2% done in 135.2s, 18.1s to go\n",
      "on time step 1764 (time=88.2), 0.0732654 s/step\n",
      "Meep progress: 90.85000000000001/100.0 = 90.9% done in 139.2s, 14.0s to go\n",
      "on time step 1817 (time=90.85), 0.0754951 s/step\n",
      "Meep progress: 93.60000000000001/100.0 = 93.6% done in 143.3s, 9.8s to go\n",
      "on time step 1872 (time=93.6), 0.073905 s/step\n",
      "Meep progress: 96.30000000000001/100.0 = 96.3% done in 147.3s, 5.7s to go\n",
      "on time step 1926 (time=96.3), 0.0744739 s/step\n",
      "Meep progress: 99.10000000000001/100.0 = 99.1% done in 151.3s, 1.4s to go\n",
      "on time step 1982 (time=99.1), 0.0714706 s/step\n",
      "Normalizing field data...\n",
      "run 1 finished at t = 100.0 (2000 timesteps)\n"
     ]
    }
   ],
   "source": [
    "sim.run(mp.at_every(1, Animate), until=100)\n",
    "plt.close()"
   ]
  },
  {
   "cell_type": "markdown",
   "metadata": {},
   "source": [
    "Now that we've run the simulation, we can postprocess the animation and export it to an mp4 video using the `to_mp4()` method. We'll specify a filename and 10 frames-per-second (`fps`)."
   ]
  },
  {
   "cell_type": "code",
   "execution_count": 34,
   "metadata": {},
   "outputs": [
    {
     "name": "stdout",
     "output_type": "stream",
     "text": [
      "Generating MP4...\n"
     ]
    }
   ],
   "source": [
    "filename = \"media/straight_waveguide.mp4\"\n",
    "Animate.to_mp4(10, filename)"
   ]
  },
  {
   "cell_type": "markdown",
   "metadata": {},
   "source": [
    "Finally, we can use some iPython tools to visualize the animation natively."
   ]
  },
  {
   "cell_type": "code",
   "execution_count": 35,
   "metadata": {},
   "outputs": [
    {
     "data": {
      "text/html": [
       "<video src=\"media/straight_waveguide.mp4\" controls  >\n",
       "      Your browser does not support the <code>video</code> element.\n",
       "    </video>"
      ],
      "text/plain": [
       "<IPython.core.display.Video object>"
      ]
     },
     "execution_count": 35,
     "metadata": {},
     "output_type": "execute_result"
    }
   ],
   "source": [
    "from IPython.display import Video\n",
    "\n",
    "Video(filename)"
   ]
  },
  {
   "cell_type": "markdown",
   "metadata": {},
   "source": [
    "As expected, the fields propogate down the waveguide."
   ]
  }
 ],
 "metadata": {
  "kernelspec": {
   "display_name": "Python 3",
   "language": "python",
   "name": "python3"
  },
  "language_info": {
   "codemirror_mode": {
    "name": "ipython",
    "version": 3
   },
   "file_extension": ".py",
   "mimetype": "text/x-python",
   "name": "python",
   "nbconvert_exporter": "python",
   "pygments_lexer": "ipython3",
   "version": "3.8.19"
  },
  "toc": {
   "base_numbering": 1,
   "nav_menu": {},
   "number_sections": true,
   "sideBar": true,
   "skip_h1_title": false,
   "title_cell": "Table of Contents",
   "title_sidebar": "Contents",
   "toc_cell": false,
   "toc_position": {},
   "toc_section_display": true,
   "toc_window_display": false
  }
 },
 "nbformat": 4,
 "nbformat_minor": 2
}
