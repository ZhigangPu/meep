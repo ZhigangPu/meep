{
 "cells": [
  {
   "cell_type": "markdown",
   "metadata": {},
   "source": [
    "# A straight waveguide\n",
    "For our first example, let's examine the field pattern excited by a localized continuous wave (CW) source in a waveguide — first straight, then bent. The waveguide will have frequency-independent $\\epsilon$=12 and width 1 $\\mu$m. The unit length in this example is 1 $\\mu$m. See also Units.\n",
    "\n",
    "The first thing to do always is to load the Meep library, along with any other library we may need for post processing or visualization:"
   ]
  },
  {
   "cell_type": "code",
   "execution_count": 1,
   "metadata": {},
   "outputs": [],
   "source": [
    "import meep as mp"
   ]
  },
  {
   "cell_type": "markdown",
   "metadata": {},
   "source": [
    "## Simulation Domain\n",
    "\n",
    "We can begin specifying each of the simulation objects starting with the computational cell. \n",
    "\n",
    "We're going to put a source at one end and watch the fields propagate down the waveguide in the $x$ direction, so let's use a cell of length 16 $\\mu$m in the $x$ direction to give it some distance to propagate. In the $y$ direction, we just need enough room so that the boundaries do not affect the waveguide mode; let's give it a size of 8 $\\mu$m."
   ]
  },
  {
   "cell_type": "code",
   "execution_count": 2,
   "metadata": {},
   "outputs": [],
   "source": [
    "cell = mp.Vector3(16, 16, 16)"
   ]
  },
  {
   "cell_type": "markdown",
   "metadata": {},
   "source": [
    "The `Vector3` object stores the size of the cell in each of the three coordinate directions. This is a 2d cell in $x$ and $y$ where the $z$ direction has size 0. All 2D simulations must lie in the XY plane, as we've specified."
   ]
  },
  {
   "cell_type": "markdown",
   "metadata": {},
   "source": [
    "## Geometry\n",
    "Next we add the waveguide. Most commonly, the device structure is specified by a set of `GeometricObjects` stored in the `geometry` object."
   ]
  },
  {
   "cell_type": "code",
   "execution_count": 3,
   "metadata": {},
   "outputs": [],
   "source": [
    "geometry = [\n",
    "    mp.Block(center=mp.Vector3(0,0,0), size=mp.Vector3(0.2,0.2,4.0), material=mp.metal)\n",
    "]"
   ]
  },
  {
   "cell_type": "markdown",
   "metadata": {},
   "source": [
    "The waveguide is specified by a Block (parallelepiped) of size $\\infty \\times 1 \\times \\infty$, with $\\epsilon$=12, centered at (0,0) which is the center of the cell. By default, any place where there are no objects there is air ($\\epsilon$=1), although this can be changed by setting the `default_material` variable (shown below)."
   ]
  },
  {
   "cell_type": "markdown",
   "metadata": {},
   "source": [
    "## Sources\n",
    "We have the structure and need to specify the current sources using the `sources` object. The simplest thing is to add a single point source $J_z$:"
   ]
  },
  {
   "cell_type": "code",
   "execution_count": 4,
   "metadata": {},
   "outputs": [],
   "source": [
    "vol = mp.Volume(mp.Vector3(0.0,0.0,0.0), mp.Vector3(0.2,0.2,4.0))\n",
    "sources = [\n",
    "    mp.Source(\n",
    "        mp.ContinuousSource(frequency=0.15), component=mp.Ez, volume=vol\n",
    "    )\n",
    "]"
   ]
  },
  {
   "cell_type": "markdown",
   "metadata": {},
   "source": [
    "We gave the source a frequency of 0.15, and specified a `ContinuousSource` which is just a fixed-frequency sinusoid exp($−i\\omega t$) that by default is turned on at $t=0$. \n",
    "\n",
    "Recall that, in Meep units, frequency is specified in units of $2\\pi c$, which is equivalent to the inverse of the vacuum wavelength. Thus, 0.15 corresponds to a vacuum wavelength of about 1/0.15=6.67 μm, or a wavelength of about 2 μm in the ε=12 material — thus, our waveguide is half a wavelength wide, which should hopefully make it single mode. In fact, the cutoff for single-mode behavior in this waveguide is analytically solvable, and corresponds to a frequency of $\\frac{1}{2\\sqrt{11}}$ or roughly 0.15076. \n",
    "\n",
    "Note also that to specify a $J_z$, we specify a component `Ez` (e.g., if we wanted a magnetic current, we would specify `Hx`, `Hy`, or `Hz`). \n",
    "\n",
    "The current is located at (-7,0), which is 1 $\\mu$m to the right of the left edge of the cell — we always want to leave a little space between sources and the cell boundaries, to keep the boundary conditions from interfering with them."
   ]
  },
  {
   "cell_type": "markdown",
   "metadata": {},
   "source": [
    "## Boundary layers\n",
    "As for boundary conditions, we want to add absorbing boundaries around our cell. \n",
    "\n",
    "Absorbing boundaries in Meep are handled by perfectly matched layers (PML) — which aren't really a boundary condition at all, but rather a fictitious absorbing material added around the edges of the cell. To add an absorbing layer of thickness 1 $\\mu$m around all sides of the cell, we do:"
   ]
  },
  {
   "cell_type": "code",
   "execution_count": 5,
   "metadata": {},
   "outputs": [],
   "source": [
    "pml_layers = [mp.PML(1.0)]"
   ]
  },
  {
   "cell_type": "markdown",
   "metadata": {},
   "source": [
    "`pml_layers` is a `list` of `PML` objects — you may have more than one `PML` object if you want `PML` layers only on certain sides of the cell. For example, `mp.PML(thickness=1.0,direction=mp.X,side=mp.high)` specifies a `PML` layer on only the `+x` side. \n",
    "\n",
    "An important point: the PML layer is inside the cell, overlapping whatever objects you have there. So, in this case our PML overlaps our waveguide, which is what we want so that it will properly absorb waveguide modes. \n",
    "\n",
    "The finite thickness of the PML is important to reduce numerical reflections. For more information, see Perfectly Matched Layer."
   ]
  },
  {
   "cell_type": "markdown",
   "metadata": {},
   "source": [
    "## Resolution\n",
    "Meep will discretize this structure in space and time, and that is specified by a single variable, `resolution`, that gives the number of pixels per distance unit. \n",
    "\n",
    "We'll set this resolution to 10 pixels/μm, which corresponds to around 67 pixels/wavelength, or around 20 pixels/wavelength in the high-index material. In general, at least 8 pixels/wavelength in the highest dielectric is a good idea. This will give us a 160×80 cell."
   ]
  },
  {
   "cell_type": "code",
   "execution_count": 6,
   "metadata": {},
   "outputs": [],
   "source": [
    "resolution = 10"
   ]
  },
  {
   "cell_type": "markdown",
   "metadata": {},
   "source": [
    "## Simulation Object\n",
    "\n",
    "The final object to specify is `Simulation` which is based on all the previously defined objects:"
   ]
  },
  {
   "cell_type": "code",
   "execution_count": 7,
   "metadata": {},
   "outputs": [],
   "source": [
    "sim = mp.Simulation(\n",
    "    cell_size=cell,\n",
    "    boundary_layers=pml_layers,\n",
    "    geometry=geometry,\n",
    "    sources=sources,\n",
    "    resolution=resolution,\n",
    ")"
   ]
  },
  {
   "cell_type": "markdown",
   "metadata": {},
   "source": [
    "## Visualization\n",
    "Before we actually run our simulation, we often want to visualize the entire domain to ensure that the geometry, source, boundary layers, and even monitors are all correct.\n",
    "\n",
    "We can create a figure using `matplotlib`, and pass the figure axis to the `plot2D` function. This function plots all of the relevant simulation objects in the passed axis handle. Any arbitrary slice may be specified. The default is through `z=0`."
   ]
  },
  {
   "cell_type": "code",
   "execution_count": 8,
   "metadata": {},
   "outputs": [
    {
     "name": "stdout",
     "output_type": "stream",
     "text": [
      "     block, center = (0,0,0)\n",
      "          size (0.2,0.2,4)\n",
      "          axes (1,0,0), (0,1,0), (0,0,1)\n",
      "          dielectric constant epsilon diagonal = (-1e+20,-1e+20,-1e+20)\n",
      "-----------\n",
      "Initializing structure...\n",
      "time for choose_chunkdivision = 0.000428915 s\n",
      "Working in 3D dimensions.\n",
      "Computational cell is 16 x 16 x 16 with resolution 10\n",
      "     block, center = (0,0,0)\n",
      "          size (0.2,0.2,4)\n",
      "          axes (1,0,0), (0,1,0), (0,0,1)\n",
      "          dielectric constant epsilon diagonal = (-1e+20,-1e+20,-1e+20)\n",
      "time for set_epsilon = 5.58591 s\n",
      "-----------\n"
     ]
    },
    {
     "data": {
      "image/png": "[encoded data removed]",
      "text/plain": [
       "<Figure size 640x480 with 1 Axes>"
      ]
     },
     "metadata": {},
     "output_type": "display_data"
    }
   ],
   "source": [
    "from matplotlib import pyplot as plt\n",
    "\n",
    "vol = mp.Volume(vertices=[mp.Vector3(-8.0,0.0,-8.0), mp.Vector3(8.0,0.0,-8.0),mp.Vector3(8.0,0.0,8.0), mp.Vector3(-8.0,0.0,8.0)])\n",
    "\n",
    "%matplotlib inline\n",
    "plt.figure(dpi=100)\n",
    "sim.plot2D(fields=mp.Ez, output_plane=vol)\n",
    "plt.show()"
   ]
  },
  {
   "cell_type": "markdown",
   "metadata": {},
   "source": [
    "The green boxes represent the PML boundary layers. The black line through the middle is our waveguide. The red dot is our source.\n",
    "\n",
    "Everything looks like we would expect, so let's run the simulation."
   ]
  },
  {
   "cell_type": "markdown",
   "metadata": {},
   "source": [
    "## Simulate\n",
    "We are ready to run the simulation. We time step the fields until a time of 200:"
   ]
  },
  {
   "cell_type": "code",
   "execution_count": 9,
   "metadata": {},
   "outputs": [
    {
     "data": {
      "application/vnd.jupyter.widget-view+json": {
       "model_id": "3bfe41e36d924e33b53c88373590445e",
       "version_major": 2,
       "version_minor": 0
      },
      "text/plain": [
       "FloatProgress(value=0.0, description='0% done ', max=200.0)"
      ]
     },
     "metadata": {},
     "output_type": "display_data"
    },
    {
     "name": "stdout",
     "output_type": "stream",
     "text": [
      "Meep progress: 0.05/200.0 = 0.0% done in 5.3s, 21235.1s to go\n",
      "on time step 1 (time=0.05), 5.30661 s/step\n",
      "Meep progress: 3.0500000000000003/200.0 = 1.5% done in 9.3s, 601.7s to go\n",
      "on time step 61 (time=3.05), 0.0667893 s/step\n",
      "Meep progress: 6.050000000000001/200.0 = 3.0% done in 13.3s, 427.5s to go\n",
      "on time step 121 (time=6.05), 0.0669228 s/step\n",
      "Meep progress: 9.1/200.0 = 4.5% done in 17.4s, 364.0s to go\n",
      "on time step 182 (time=9.1), 0.0658387 s/step\n",
      "Meep progress: 12.15/200.0 = 6.1% done in 21.4s, 330.7s to go\n",
      "on time step 243 (time=12.15), 0.0661467 s/step\n",
      "Meep progress: 15.15/200.0 = 7.6% done in 25.4s, 310.5s to go\n",
      "on time step 303 (time=15.15), 0.0677027 s/step\n",
      "Meep progress: 18.1/200.0 = 9.1% done in 29.5s, 296.5s to go\n",
      "on time step 362 (time=18.1), 0.0686333 s/step\n",
      "Meep progress: 21.05/200.0 = 10.5% done in 33.5s, 285.2s to go\n",
      "on time step 421 (time=21.05), 0.0686365 s/step\n",
      "Meep progress: 24.1/200.0 = 12.1% done in 37.6s, 274.5s to go\n",
      "on time step 482 (time=24.1), 0.0665809 s/step\n",
      "Meep progress: 27.1/200.0 = 13.6% done in 41.6s, 265.7s to go\n",
      "on time step 542 (time=27.1), 0.0671088 s/step\n",
      "Meep progress: 30.05/200.0 = 15.0% done in 45.6s, 258.1s to go\n",
      "on time step 601 (time=30.05), 0.0678758 s/step\n",
      "Meep progress: 33.050000000000004/200.0 = 16.5% done in 49.7s, 251.0s to go\n",
      "on time step 661 (time=33.05), 0.0674226 s/step\n",
      "Meep progress: 36.0/200.0 = 18.0% done in 53.7s, 244.8s to go\n",
      "on time step 720 (time=36), 0.0684981 s/step\n",
      "Meep progress: 39.0/200.0 = 19.5% done in 57.8s, 238.5s to go\n",
      "on time step 780 (time=39), 0.0671706 s/step\n",
      "Meep progress: 42.0/200.0 = 21.0% done in 61.8s, 232.4s to go\n",
      "on time step 840 (time=42), 0.0668385 s/step\n",
      "Meep progress: 44.900000000000006/200.0 = 22.5% done in 65.8s, 227.3s to go\n",
      "on time step 898 (time=44.9), 0.0693503 s/step\n",
      "Meep progress: 47.95/200.0 = 24.0% done in 69.8s, 221.4s to go\n",
      "on time step 959 (time=47.95), 0.066187 s/step\n",
      "Meep progress: 50.95/200.0 = 25.5% done in 73.9s, 216.1s to go\n",
      "on time step 1019 (time=50.95), 0.0674376 s/step\n",
      "Meep progress: 53.95/200.0 = 27.0% done in 77.9s, 210.9s to go\n",
      "on time step 1079 (time=53.95), 0.0672167 s/step\n",
      "Meep progress: 57.0/200.0 = 28.5% done in 82.0s, 205.6s to go\n",
      "on time step 1140 (time=57), 0.0661384 s/step\n",
      "Meep progress: 60.0/200.0 = 30.0% done in 86.0s, 200.6s to go\n",
      "on time step 1200 (time=60), 0.0673535 s/step\n",
      "Meep progress: 63.050000000000004/200.0 = 31.5% done in 90.0s, 195.5s to go\n",
      "on time step 1261 (time=63.05), 0.0657714 s/step\n",
      "Meep progress: 66.0/200.0 = 33.0% done in 94.0s, 190.9s to go\n",
      "on time step 1320 (time=66), 0.0678871 s/step\n",
      "Meep progress: 69.0/200.0 = 34.5% done in 98.0s, 186.1s to go\n",
      "on time step 1380 (time=69), 0.0667092 s/step\n",
      "Meep progress: 72.05/200.0 = 36.0% done in 102.1s, 181.3s to go\n",
      "on time step 1441 (time=72.05), 0.0664625 s/step\n",
      "Meep progress: 75.05/200.0 = 37.5% done in 106.1s, 176.6s to go\n",
      "on time step 1501 (time=75.05), 0.0668156 s/step\n",
      "Meep progress: 78.10000000000001/200.0 = 39.1% done in 110.1s, 171.9s to go\n",
      "on time step 1562 (time=78.1), 0.066009 s/step\n",
      "Meep progress: 81.05000000000001/200.0 = 40.5% done in 114.1s, 167.5s to go\n",
      "on time step 1621 (time=81.05), 0.0678533 s/step\n",
      "Meep progress: 84.05000000000001/200.0 = 42.0% done in 118.1s, 162.9s to go\n",
      "on time step 1681 (time=84.05), 0.066776 s/step\n",
      "Meep progress: 87.10000000000001/200.0 = 43.6% done in 122.2s, 158.4s to go\n",
      "on time step 1742 (time=87.1), 0.0663429 s/step\n",
      "Meep progress: 90.05000000000001/200.0 = 45.0% done in 126.2s, 154.1s to go\n",
      "on time step 1801 (time=90.05), 0.0679728 s/step\n",
      "Meep progress: 93.10000000000001/200.0 = 46.6% done in 130.2s, 149.5s to go\n",
      "on time step 1862 (time=93.1), 0.0657343 s/step\n",
      "Meep progress: 96.05000000000001/200.0 = 48.0% done in 134.2s, 145.2s to go\n",
      "on time step 1921 (time=96.05), 0.0680043 s/step\n",
      "Meep progress: 99.10000000000001/200.0 = 49.6% done in 138.2s, 140.7s to go\n",
      "on time step 1982 (time=99.1), 0.0658931 s/step\n",
      "Meep progress: 102.15/200.0 = 51.1% done in 142.3s, 136.3s to go\n",
      "on time step 2043 (time=102.15), 0.0660877 s/step\n",
      "Meep progress: 105.15/200.0 = 52.6% done in 146.3s, 131.9s to go\n",
      "on time step 2103 (time=105.15), 0.0670823 s/step\n",
      "Meep progress: 108.2/200.0 = 54.1% done in 150.3s, 127.5s to go\n",
      "on time step 2164 (time=108.2), 0.0656356 s/step\n",
      "Meep progress: 111.15/200.0 = 55.6% done in 154.3s, 123.3s to go\n",
      "on time step 2223 (time=111.15), 0.0679895 s/step\n",
      "Meep progress: 114.15/200.0 = 57.1% done in 158.3s, 119.1s to go\n",
      "on time step 2283 (time=114.15), 0.0669518 s/step\n",
      "Meep progress: 117.2/200.0 = 58.6% done in 162.3s, 114.7s to go\n",
      "on time step 2344 (time=117.2), 0.0661644 s/step\n",
      "Meep progress: 120.2/200.0 = 60.1% done in 166.3s, 110.4s to go\n",
      "on time step 2404 (time=120.2), 0.0666813 s/step\n",
      "Meep progress: 123.25/200.0 = 61.6% done in 170.3s, 106.1s to go\n",
      "on time step 2465 (time=123.25), 0.0655782 s/step\n",
      "Meep progress: 126.2/200.0 = 63.1% done in 174.4s, 102.0s to go\n",
      "on time step 2524 (time=126.2), 0.0684985 s/step\n",
      "Meep progress: 129.20000000000002/200.0 = 64.6% done in 178.4s, 97.8s to go\n",
      "on time step 2584 (time=129.2), 0.0668035 s/step\n",
      "Meep progress: 132.25/200.0 = 66.1% done in 182.4s, 93.5s to go\n",
      "on time step 2645 (time=132.25), 0.0661734 s/step\n",
      "Meep progress: 135.3/200.0 = 67.7% done in 186.5s, 89.2s to go\n",
      "on time step 2706 (time=135.3), 0.0663965 s/step\n",
      "Meep progress: 138.4/200.0 = 69.2% done in 190.6s, 84.8s to go\n",
      "on time step 2768 (time=138.4), 0.0655492 s/step\n",
      "Meep progress: 141.45000000000002/200.0 = 70.7% done in 194.6s, 80.5s to go\n",
      "on time step 2829 (time=141.45), 0.0662549 s/step\n",
      "Meep progress: 144.45000000000002/200.0 = 72.2% done in 198.6s, 76.4s to go\n",
      "on time step 2889 (time=144.45), 0.0668994 s/step\n",
      "Meep progress: 147.5/200.0 = 73.8% done in 202.7s, 72.1s to go\n",
      "on time step 2950 (time=147.5), 0.0662862 s/step\n",
      "Meep progress: 150.5/200.0 = 75.2% done in 206.7s, 68.0s to go\n",
      "on time step 3010 (time=150.5), 0.0675799 s/step\n",
      "Meep progress: 153.5/200.0 = 76.8% done in 210.7s, 63.8s to go\n",
      "on time step 3070 (time=153.5), 0.0670381 s/step\n",
      "Meep progress: 156.5/200.0 = 78.2% done in 214.7s, 59.7s to go\n",
      "on time step 3130 (time=156.5), 0.066778 s/step\n",
      "Meep progress: 159.55/200.0 = 79.8% done in 218.8s, 55.5s to go\n",
      "on time step 3191 (time=159.55), 0.0663132 s/step\n",
      "Meep progress: 162.60000000000002/200.0 = 81.3% done in 222.8s, 51.2s to go\n",
      "on time step 3252 (time=162.6), 0.0658789 s/step\n",
      "Meep progress: 165.60000000000002/200.0 = 82.8% done in 226.8s, 47.1s to go\n",
      "on time step 3312 (time=165.6), 0.0672975 s/step\n",
      "Meep progress: 168.65/200.0 = 84.3% done in 230.9s, 42.9s to go\n",
      "on time step 3373 (time=168.65), 0.065979 s/step\n",
      "Meep progress: 171.60000000000002/200.0 = 85.8% done in 234.9s, 38.9s to go\n",
      "on time step 3432 (time=171.6), 0.0678417 s/step\n",
      "Meep progress: 174.65/200.0 = 87.3% done in 238.9s, 34.7s to go\n",
      "on time step 3493 (time=174.65), 0.0659855 s/step\n",
      "Meep progress: 177.60000000000002/200.0 = 88.8% done in 242.9s, 30.6s to go\n",
      "on time step 3552 (time=177.6), 0.0679478 s/step\n",
      "Meep progress: 180.55/200.0 = 90.3% done in 247.0s, 26.6s to go\n",
      "on time step 3611 (time=180.55), 0.0685847 s/step\n",
      "Meep progress: 183.5/200.0 = 91.8% done in 251.0s, 22.6s to go\n",
      "on time step 3670 (time=183.5), 0.0680263 s/step\n",
      "Meep progress: 186.4/200.0 = 93.2% done in 255.0s, 18.6s to go\n",
      "on time step 3728 (time=186.4), 0.0696837 s/step\n",
      "Meep progress: 189.4/200.0 = 94.7% done in 259.0s, 14.5s to go\n",
      "on time step 3788 (time=189.4), 0.0670676 s/step\n",
      "Meep progress: 192.3/200.0 = 96.2% done in 263.1s, 10.5s to go\n",
      "on time step 3846 (time=192.3), 0.0695877 s/step\n",
      "Meep progress: 195.20000000000002/200.0 = 97.6% done in 267.1s, 6.6s to go\n",
      "on time step 3904 (time=195.2), 0.0700379 s/step\n",
      "Meep progress: 198.05/200.0 = 99.0% done in 271.2s, 2.7s to go\n",
      "on time step 3961 (time=198.05), 0.0704321 s/step\n",
      "run 0 finished at t = 200.0 (4000 timesteps)\n"
     ]
    }
   ],
   "source": [
    "sim.run(until=200)"
   ]
  },
  {
   "cell_type": "markdown",
   "metadata": {},
   "source": [
    "It should finish in less than a second. We can analyze and visualize the fields using `plot2D`:"
   ]
  },
  {
   "cell_type": "code",
   "execution_count": 13,
   "metadata": {},
   "outputs": [
    {
     "name": "stdout",
     "output_type": "stream",
     "text": [
      "     block, center = (0,0,0)\n",
      "          size (0.2,0.2,4)\n",
      "          axes (1,0,0), (0,1,0), (0,0,1)\n"
     ]
    },
    {
     "name": "stdout",
     "output_type": "stream",
     "text": [
      "          dielectric constant epsilon diagonal = (-1e+20,-1e+20,-1e+20)\n"
     ]
    },
    {
     "data": {
      "image/png": "[encoded data removed]",
      "text/plain": [
       "<Figure size 640x480 with 1 Axes>"
      ]
     },
     "metadata": {},
     "output_type": "display_data"
    }
   ],
   "source": [
    "%matplotlib inline\n",
    "plt.figure(dpi=100)\n",
    "# x-y plane\n",
    "# vol = mp.Volume(vertices=[mp.Vector3(-8.0,-8.0,0.0), mp.Vector3(8.0,-8.0,0.0),mp.Vector3(8.0,8.0,0.0), mp.Vector3(-8.0,8.0,0.0)])\n",
    "# x-z plane\n",
    "vol = mp.Volume(vertices=[mp.Vector3(-8.0,0.0,-8.0), mp.Vector3(8.0,0.0,-8.0),mp.Vector3(8.0,0.0,8.0), mp.Vector3(-8.0,0.0,8.0)])\n",
    "sim.plot2D(fields=mp.Ez, output_plane=vol)\n",
    "plt.show()"
   ]
  },
  {
   "cell_type": "code",
   "execution_count": 14,
   "metadata": {},
   "outputs": [
    {
     "name": "stdout",
     "output_type": "stream",
     "text": [
      "     block, center = (0,0,0)\n",
      "          size (0.2,0.2,4)\n",
      "          axes (1,0,0), (0,1,0), (0,0,1)\n",
      "          dielectric constant epsilon diagonal = (-1e+20,-1e+20,-1e+20)\n"
     ]
    },
    {
     "data": {
      "image/png": "[encoded data removed]",
      "text/plain": [
       "<Figure size 640x480 with 1 Axes>"
      ]
     },
     "metadata": {},
     "output_type": "display_data"
    }
   ],
   "source": [
    "%matplotlib inline\n",
    "plt.figure(dpi=100)\n",
    "# x-y plane\n",
    "# vol = mp.Volume(vertices=[mp.Vector3(-8.0,-8.0,0.0), mp.Vector3(8.0,-8.0,0.0),mp.Vector3(8.0,8.0,0.0), mp.Vector3(-8.0,8.0,0.0)])\n",
    "# x-z plane\n",
    "vol = mp.Volume(vertices=[mp.Vector3(-8.0,0.0,-8.0), mp.Vector3(8.0,0.0,-8.0),mp.Vector3(8.0,0.0,8.0), mp.Vector3(-8.0,0.0,8.0)])\n",
    "sim.plot2D(fields=mp.Hy, output_plane=vol)\n",
    "plt.show()"
   ]
  },
  {
   "cell_type": "markdown",
   "metadata": {},
   "source": [
    "We can see the `Ez` component of the fields superimposed on the previous domain plot. We can choose to plot any of the six field components specified earlier."
   ]
  },
  {
   "cell_type": "markdown",
   "metadata": {},
   "source": [
    "## Animation\n",
    "Often, we want to track the evolution of the fields as a function of time. This helps us ensure the fields are propogating as we would expect.\n",
    "\n",
    "We can easily accomplish this using a `run` function. Run functions are passed to the `sim.run()` method and can be called every time step. The `Animate2D()` run function can be used to generate an animation object by grabbing frames from an arbitrary number of time steps.\n",
    "\n",
    "We need to pass the `sim` object we created, specify which `fields` component we are interested in tracking, specify how often we want to record the fields, and whether to plot everything in real time. For this simulation, let's look at the `Ez` fields and take a snapshot every 1 time units. \n",
    "\n",
    "Unfortunately, Jupyter notebooks don't render realtime figure updates natively, so we'll turn this feature off and just view the animation after it runs.\n",
    "\n",
    "We also want to restart the field propogation by calling `reset_sim()`."
   ]
  },
  {
   "cell_type": "code",
   "execution_count": 11,
   "metadata": {},
   "outputs": [],
   "source": [
    "sim.reset_meep()\n",
    "f = plt.figure(dpi=100)\n",
    "Animate = mp.Animate2D(fields=mp.Ez, f=f, realtime=False, normalize=True, output_plane=vol)\n",
    "plt.close()"
   ]
  },
  {
   "cell_type": "markdown",
   "metadata": {},
   "source": [
    "Once defined, we can pass it along with our original argument, `until`. This time, however, we'll just run until 50 time units. We'll tell meep to record the field information every 1 time unit by using the `at_every()` run function modifier."
   ]
  },
  {
   "cell_type": "code",
   "execution_count": 12,
   "metadata": {},
   "outputs": [
    {
     "name": "stdout",
     "output_type": "stream",
     "text": [
      "-----------\n",
      "Initializing structure...\n",
      "time for choose_chunkdivision = 0.000420094 s\n",
      "Working in 3D dimensions.\n",
      "Computational cell is 16 x 16 x 16 with resolution 10\n",
      "     block, center = (0,0,0)\n",
      "          size (0.2,0.2,4)\n",
      "          axes (1,0,0), (0,1,0), (0,0,1)\n",
      "          dielectric constant epsilon diagonal = (-1e+20,-1e+20,-1e+20)\n",
      "time for set_epsilon = 5.75451 s\n",
      "-----------\n"
     ]
    },
    {
     "data": {
      "application/vnd.jupyter.widget-view+json": {
       "model_id": "c33f6dd921fa4d66bacdd7e2310ea4f3",
       "version_major": 2,
       "version_minor": 0
      },
      "text/plain": [
       "FloatProgress(value=0.0, description='0% done ')"
      ]
     },
     "metadata": {},
     "output_type": "display_data"
    },
    {
     "name": "stdout",
     "output_type": "stream",
     "text": [
      "Meep progress: 0.05/100.0 = 0.1% done in 5.2s, 10404.5s to go\n",
      "on time step 1 (time=0.05), 5.20145 s/step\n",
      "     block, center = (0,0,0)\n",
      "          size (0.2,0.2,4)\n",
      "          axes (1,0,0), (0,1,0), (0,0,1)\n",
      "          dielectric constant epsilon diagonal = (-1e+20,-1e+20,-1e+20)\n",
      "Meep progress: 2.95/100.0 = 3.0% done in 9.2s, 303.9s to go\n",
      "on time step 59 (time=2.95), 0.069541 s/step\n",
      "Meep progress: 5.8500000000000005/100.0 = 5.9% done in 13.3s, 213.3s to go\n",
      "on time step 117 (time=5.85), 0.0692584 s/step\n",
      "Meep progress: 8.9/100.0 = 8.9% done in 17.3s, 177.3s to go\n",
      "on time step 178 (time=8.9), 0.0666358 s/step\n",
      "Meep progress: 11.8/100.0 = 11.8% done in 21.4s, 159.8s to go\n",
      "on time step 236 (time=11.8), 0.0699363 s/step\n",
      "Meep progress: 14.700000000000001/100.0 = 14.7% done in 25.4s, 147.3s to go\n",
      "on time step 294 (time=14.7), 0.0691717 s/step\n",
      "Meep progress: 17.7/100.0 = 17.7% done in 29.4s, 136.7s to go\n",
      "on time step 354 (time=17.7), 0.0667515 s/step\n",
      "Meep progress: 20.700000000000003/100.0 = 20.7% done in 33.5s, 128.2s to go\n",
      "on time step 414 (time=20.7), 0.0676073 s/step\n",
      "Meep progress: 23.6/100.0 = 23.6% done in 37.5s, 121.4s to go\n",
      "on time step 472 (time=23.6), 0.0699051 s/step\n",
      "Meep progress: 26.55/100.0 = 26.6% done in 41.5s, 114.9s to go\n",
      "on time step 531 (time=26.55), 0.0679112 s/step\n",
      "Meep progress: 29.5/100.0 = 29.5% done in 45.5s, 108.8s to go\n",
      "on time step 590 (time=29.5), 0.0682571 s/step\n",
      "Meep progress: 32.45/100.0 = 32.5% done in 49.5s, 103.1s to go\n",
      "on time step 649 (time=32.45), 0.0678587 s/step\n",
      "Meep progress: 35.45/100.0 = 35.5% done in 53.5s, 97.5s to go\n",
      "on time step 710 (time=35.5), 0.0666631 s/step\n",
      "Meep progress: 38.45/100.0 = 38.5% done in 57.6s, 92.2s to go\n",
      "on time step 770 (time=38.5), 0.0673 s/step\n",
      "Meep progress: 41.300000000000004/100.0 = 41.3% done in 61.6s, 87.5s to go\n",
      "on time step 827 (time=41.35), 0.0702825 s/step\n",
      "Meep progress: 44.300000000000004/100.0 = 44.3% done in 65.6s, 82.5s to go\n",
      "on time step 887 (time=44.35), 0.0667079 s/step\n",
      "Meep progress: 47.25/100.0 = 47.2% done in 69.6s, 77.7s to go\n",
      "on time step 946 (time=47.3), 0.068264 s/step\n",
      "Meep progress: 50.300000000000004/100.0 = 50.3% done in 73.7s, 72.8s to go\n",
      "on time step 1007 (time=50.35), 0.0662937 s/step\n",
      "Meep progress: 53.300000000000004/100.0 = 53.3% done in 77.7s, 68.1s to go\n",
      "on time step 1067 (time=53.35), 0.0668687 s/step\n",
      "Meep progress: 56.300000000000004/100.0 = 56.3% done in 81.7s, 63.4s to go\n",
      "on time step 1127 (time=56.35), 0.0676508 s/step\n",
      "Meep progress: 59.25/100.0 = 59.2% done in 85.8s, 59.0s to go\n",
      "on time step 1186 (time=59.3), 0.0686488 s/step\n",
      "Meep progress: 62.150000000000006/100.0 = 62.2% done in 89.8s, 54.7s to go\n",
      "on time step 1245 (time=62.25), 0.0689112 s/step\n",
      "Meep progress: 65.10000000000001/100.0 = 65.1% done in 93.8s, 50.3s to go\n",
      "on time step 1304 (time=65.2), 0.068033 s/step\n"
     ]
    },
    {
     "ename": "KeyboardInterrupt",
     "evalue": "",
     "output_type": "error",
     "traceback": [
      "\u001b[0;31m---------------------------------------------------------------------------\u001b[0m",
      "\u001b[0;31mKeyboardInterrupt\u001b[0m                         Traceback (most recent call last)",
      "Cell \u001b[0;32mIn[12], line 1\u001b[0m\n\u001b[0;32m----> 1\u001b[0m \u001b[43msim\u001b[49m\u001b[38;5;241;43m.\u001b[39;49m\u001b[43mrun\u001b[49m\u001b[43m(\u001b[49m\u001b[43mmp\u001b[49m\u001b[38;5;241;43m.\u001b[39;49m\u001b[43mat_every\u001b[49m\u001b[43m(\u001b[49m\u001b[38;5;241;43m1\u001b[39;49m\u001b[43m,\u001b[49m\u001b[43m \u001b[49m\u001b[43mAnimate\u001b[49m\u001b[43m)\u001b[49m\u001b[43m,\u001b[49m\u001b[43m \u001b[49m\u001b[43muntil\u001b[49m\u001b[38;5;241;43m=\u001b[39;49m\u001b[38;5;241;43m100\u001b[39;49m\u001b[43m)\u001b[49m\n\u001b[1;32m      2\u001b[0m plt\u001b[38;5;241m.\u001b[39mclose()\n",
      "File \u001b[0;32m~/miniconda3/envs/mp/lib/python3.8/site-packages/meep/simulation.py:4536\u001b[0m, in \u001b[0;36mSimulation.run\u001b[0;34m(self, *step_funcs, **kwargs)\u001b[0m\n\u001b[1;32m   4534\u001b[0m     \u001b[38;5;28mself\u001b[39m\u001b[38;5;241m.\u001b[39m_run_sources_until(until_after_sources, step_funcs)\n\u001b[1;32m   4535\u001b[0m \u001b[38;5;28;01melif\u001b[39;00m until \u001b[38;5;129;01mis\u001b[39;00m \u001b[38;5;129;01mnot\u001b[39;00m \u001b[38;5;28;01mNone\u001b[39;00m:\n\u001b[0;32m-> 4536\u001b[0m     \u001b[38;5;28;43mself\u001b[39;49m\u001b[38;5;241;43m.\u001b[39;49m\u001b[43m_run_until\u001b[49m\u001b[43m(\u001b[49m\u001b[43muntil\u001b[49m\u001b[43m,\u001b[49m\u001b[43m \u001b[49m\u001b[43mstep_funcs\u001b[49m\u001b[43m)\u001b[49m\n\u001b[1;32m   4537\u001b[0m \u001b[38;5;28;01melse\u001b[39;00m:\n\u001b[1;32m   4538\u001b[0m     \u001b[38;5;28;01mraise\u001b[39;00m \u001b[38;5;167;01mValueError\u001b[39;00m(\u001b[38;5;124m\"\u001b[39m\u001b[38;5;124mInvalid run configuration\u001b[39m\u001b[38;5;124m\"\u001b[39m)\n",
      "File \u001b[0;32m~/miniconda3/envs/mp/lib/python3.8/site-packages/meep/simulation.py:2832\u001b[0m, in \u001b[0;36mSimulation._run_until\u001b[0;34m(self, cond, step_funcs)\u001b[0m\n\u001b[1;32m   2830\u001b[0m     \u001b[38;5;28;01mfor\u001b[39;00m func \u001b[38;5;129;01min\u001b[39;00m step_funcs:\n\u001b[1;32m   2831\u001b[0m         _eval_step_func(\u001b[38;5;28mself\u001b[39m, func, \u001b[38;5;124m\"\u001b[39m\u001b[38;5;124mstep\u001b[39m\u001b[38;5;124m\"\u001b[39m)\n\u001b[0;32m-> 2832\u001b[0m     \u001b[38;5;28;43mself\u001b[39;49m\u001b[38;5;241;43m.\u001b[39;49m\u001b[43mfields\u001b[49m\u001b[38;5;241;43m.\u001b[39;49m\u001b[43mstep\u001b[49m\u001b[43m(\u001b[49m\u001b[43m)\u001b[49m\n\u001b[1;32m   2834\u001b[0m \u001b[38;5;66;03m# Translating the recursive scheme version of run-until into an iterative version\u001b[39;00m\n\u001b[1;32m   2835\u001b[0m \u001b[38;5;66;03m# (because python isn't tail-call-optimized) means we need one extra iteration to\u001b[39;00m\n\u001b[1;32m   2836\u001b[0m \u001b[38;5;66;03m# be the same as scheme.\u001b[39;00m\n\u001b[1;32m   2837\u001b[0m \u001b[38;5;28;01mfor\u001b[39;00m func \u001b[38;5;129;01min\u001b[39;00m step_funcs:\n",
      "File \u001b[0;32m~/miniconda3/envs/mp/lib/python3.8/site-packages/meep/__init__.py:3041\u001b[0m, in \u001b[0;36mfields.step\u001b[0;34m(self)\u001b[0m\n\u001b[1;32m   3040\u001b[0m \u001b[38;5;28;01mdef\u001b[39;00m \u001b[38;5;21mstep\u001b[39m(\u001b[38;5;28mself\u001b[39m):\n\u001b[0;32m-> 3041\u001b[0m     \u001b[38;5;28;01mreturn\u001b[39;00m \u001b[43m_meep\u001b[49m\u001b[38;5;241;43m.\u001b[39;49m\u001b[43mfields_step\u001b[49m\u001b[43m(\u001b[49m\u001b[38;5;28;43mself\u001b[39;49m\u001b[43m)\u001b[49m\n",
      "\u001b[0;31mKeyboardInterrupt\u001b[0m: "
     ]
    }
   ],
   "source": [
    "sim.run(mp.at_every(1, Animate), until=100)\n",
    "plt.close()"
   ]
  },
  {
   "cell_type": "markdown",
   "metadata": {},
   "source": [
    "Now that we've run the simulation, we can postprocess the animation and export it to an mp4 video using the `to_mp4()` method. We'll specify a filename and 10 frames-per-second (`fps`)."
   ]
  },
  {
   "cell_type": "code",
   "execution_count": null,
   "metadata": {},
   "outputs": [
    {
     "name": "stdout",
     "output_type": "stream",
     "text": [
      "Generating MP4...\n"
     ]
    }
   ],
   "source": [
    "filename = \"video.mp4\"\n",
    "Animate.to_mp4(10, filename)"
   ]
  },
  {
   "cell_type": "markdown",
   "metadata": {},
   "source": [
    "Finally, we can use some iPython tools to visualize the animation natively."
   ]
  },
  {
   "cell_type": "code",
   "execution_count": null,
   "metadata": {},
   "outputs": [
    {
     "data": {
      "text/html": [
       "<video src=\"media/straight_waveguide.mp4\" controls  >\n",
       "      Your browser does not support the <code>video</code> element.\n",
       "    </video>"
      ],
      "text/plain": [
       "<IPython.core.display.Video object>"
      ]
     },
     "execution_count": 35,
     "metadata": {},
     "output_type": "execute_result"
    }
   ],
   "source": [
    "from IPython.display import Video\n",
    "\n",
    "Video(filename)"
   ]
  },
  {
   "cell_type": "markdown",
   "metadata": {},
   "source": [
    "As expected, the fields propogate down the waveguide."
   ]
  }
 ],
 "metadata": {
  "kernelspec": {
   "display_name": "Python 3",
   "language": "python",
   "name": "python3"
  },
  "language_info": {
   "codemirror_mode": {
    "name": "ipython",
    "version": 3
   },
   "file_extension": ".py",
   "mimetype": "text/x-python",
   "name": "python",
   "nbconvert_exporter": "python",
   "pygments_lexer": "ipython3",
   "version": "3.8.19"
  },
  "toc": {
   "base_numbering": 1,
   "nav_menu": {},
   "number_sections": true,
   "sideBar": true,
   "skip_h1_title": false,
   "title_cell": "Table of Contents",
   "title_sidebar": "Contents",
   "toc_cell": false,
   "toc_position": {},
   "toc_section_display": true,
   "toc_window_display": false
  }
 },
 "nbformat": 4,
 "nbformat_minor": 2
}
