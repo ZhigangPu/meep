{
 "cells": [
  {
   "cell_type": "markdown",
   "metadata": {},
   "source": [
    "# A straight waveguide\n",
    "For our first example, let's examine the field pattern excited by a localized continuous wave (CW) source in a waveguide — first straight, then bent. The waveguide will have frequency-independent $\\epsilon$=12 and width 1 $\\mu$m. The unit length in this example is 1 $\\mu$m. See also Units.\n",
    "\n",
    "The first thing to do always is to load the Meep library, along with any other library we may need for post processing or visualization:"
   ]
  },
  {
   "cell_type": "code",
   "execution_count": 1,
   "metadata": {},
   "outputs": [],
   "source": [
    "import meep as mp"
   ]
  },
  {
   "cell_type": "markdown",
   "metadata": {},
   "source": [
    "## Simulation Domain\n",
    "\n",
    "We can begin specifying each of the simulation objects starting with the computational cell. \n",
    "\n",
    "We're going to put a source at one end and watch the fields propagate down the waveguide in the $x$ direction, so let's use a cell of length 16 $\\mu$m in the $x$ direction to give it some distance to propagate. In the $y$ direction, we just need enough room so that the boundaries do not affect the waveguide mode; let's give it a size of 8 $\\mu$m."
   ]
  },
  {
   "cell_type": "code",
   "execution_count": 2,
   "metadata": {},
   "outputs": [],
   "source": [
    "cell = mp.Vector3(16, 16, 16)"
   ]
  },
  {
   "cell_type": "markdown",
   "metadata": {},
   "source": [
    "The `Vector3` object stores the size of the cell in each of the three coordinate directions. This is a 2d cell in $x$ and $y$ where the $z$ direction has size 0. All 2D simulations must lie in the XY plane, as we've specified."
   ]
  },
  {
   "cell_type": "markdown",
   "metadata": {},
   "source": [
    "## Geometry\n",
    "Next we add the waveguide. Most commonly, the device structure is specified by a set of `GeometricObjects` stored in the `geometry` object."
   ]
  },
  {
   "cell_type": "code",
   "execution_count": 3,
   "metadata": {},
   "outputs": [],
   "source": [
    "geometry = []"
   ]
  },
  {
   "cell_type": "markdown",
   "metadata": {},
   "source": [
    "The waveguide is specified by a Block (parallelepiped) of size $\\infty \\times 1 \\times \\infty$, with $\\epsilon$=12, centered at (0,0) which is the center of the cell. By default, any place where there are no objects there is air ($\\epsilon$=1), although this can be changed by setting the `default_material` variable (shown below)."
   ]
  },
  {
   "cell_type": "markdown",
   "metadata": {},
   "source": [
    "## Sources\n",
    "We have the structure and need to specify the current sources using the `sources` object. The simplest thing is to add a single point source $J_z$:"
   ]
  },
  {
   "cell_type": "code",
   "execution_count": 4,
   "metadata": {},
   "outputs": [],
   "source": [
    "sources = [\n",
    "    mp.Source(\n",
    "        mp.ContinuousSource(frequency=0.15), component=mp.Ez, center=mp.Vector3(0, 0, 0)\n",
    "    )\n",
    "]"
   ]
  },
  {
   "cell_type": "markdown",
   "metadata": {},
   "source": [
    "We gave the source a frequency of 0.15, and specified a `ContinuousSource` which is just a fixed-frequency sinusoid exp($−i\\omega t$) that by default is turned on at $t=0$. \n",
    "\n",
    "Recall that, in Meep units, frequency is specified in units of $2\\pi c$, which is equivalent to the inverse of the vacuum wavelength. Thus, 0.15 corresponds to a vacuum wavelength of about 1/0.15=6.67 μm, or a wavelength of about 2 μm in the ε=12 material — thus, our waveguide is half a wavelength wide, which should hopefully make it single mode. In fact, the cutoff for single-mode behavior in this waveguide is analytically solvable, and corresponds to a frequency of $\\frac{1}{2\\sqrt{11}}$ or roughly 0.15076. \n",
    "\n",
    "Note also that to specify a $J_z$, we specify a component `Ez` (e.g., if we wanted a magnetic current, we would specify `Hx`, `Hy`, or `Hz`). \n",
    "\n",
    "The current is located at (-7,0), which is 1 $\\mu$m to the right of the left edge of the cell — we always want to leave a little space between sources and the cell boundaries, to keep the boundary conditions from interfering with them."
   ]
  },
  {
   "cell_type": "markdown",
   "metadata": {},
   "source": [
    "## Boundary layers\n",
    "As for boundary conditions, we want to add absorbing boundaries around our cell. \n",
    "\n",
    "Absorbing boundaries in Meep are handled by perfectly matched layers (PML) — which aren't really a boundary condition at all, but rather a fictitious absorbing material added around the edges of the cell. To add an absorbing layer of thickness 1 $\\mu$m around all sides of the cell, we do:"
   ]
  },
  {
   "cell_type": "code",
   "execution_count": 5,
   "metadata": {},
   "outputs": [],
   "source": [
    "pml_layers = [mp.PML(1.0)]"
   ]
  },
  {
   "cell_type": "markdown",
   "metadata": {},
   "source": [
    "`pml_layers` is a `list` of `PML` objects — you may have more than one `PML` object if you want `PML` layers only on certain sides of the cell. For example, `mp.PML(thickness=1.0,direction=mp.X,side=mp.high)` specifies a `PML` layer on only the `+x` side. \n",
    "\n",
    "An important point: the PML layer is inside the cell, overlapping whatever objects you have there. So, in this case our PML overlaps our waveguide, which is what we want so that it will properly absorb waveguide modes. \n",
    "\n",
    "The finite thickness of the PML is important to reduce numerical reflections. For more information, see Perfectly Matched Layer."
   ]
  },
  {
   "cell_type": "markdown",
   "metadata": {},
   "source": [
    "## Resolution\n",
    "Meep will discretize this structure in space and time, and that is specified by a single variable, `resolution`, that gives the number of pixels per distance unit. \n",
    "\n",
    "We'll set this resolution to 10 pixels/μm, which corresponds to around 67 pixels/wavelength, or around 20 pixels/wavelength in the high-index material. In general, at least 8 pixels/wavelength in the highest dielectric is a good idea. This will give us a 160×80 cell."
   ]
  },
  {
   "cell_type": "code",
   "execution_count": 6,
   "metadata": {},
   "outputs": [],
   "source": [
    "resolution = 10"
   ]
  },
  {
   "cell_type": "markdown",
   "metadata": {},
   "source": [
    "## Simulation Object\n",
    "\n",
    "The final object to specify is `Simulation` which is based on all the previously defined objects:"
   ]
  },
  {
   "cell_type": "code",
   "execution_count": 7,
   "metadata": {},
   "outputs": [],
   "source": [
    "sim = mp.Simulation(\n",
    "    cell_size=cell,\n",
    "    boundary_layers=pml_layers,\n",
    "    geometry=geometry,\n",
    "    sources=sources,\n",
    "    resolution=resolution,\n",
    ")"
   ]
  },
  {
   "cell_type": "markdown",
   "metadata": {},
   "source": [
    "## Visualization\n",
    "Before we actually run our simulation, we often want to visualize the entire domain to ensure that the geometry, source, boundary layers, and even monitors are all correct.\n",
    "\n",
    "We can create a figure using `matplotlib`, and pass the figure axis to the `plot2D` function. This function plots all of the relevant simulation objects in the passed axis handle. Any arbitrary slice may be specified. The default is through `z=0`."
   ]
  },
  {
   "cell_type": "code",
   "execution_count": 8,
   "metadata": {},
   "outputs": [
    {
     "name": "stdout",
     "output_type": "stream",
     "text": [
      "-----------\n",
      "Initializing structure...\n",
      "time for choose_chunkdivision = 0.000789165 s\n",
      "Working in 3D dimensions.\n",
      "Computational cell is 16 x 16 x 16 with resolution 10\n",
      "time for set_epsilon = 5.6456 s\n",
      "-----------\n"
     ]
    },
    {
     "data": {
      "image/png": "[encoded data removed]",
      "text/plain": [
       "<Figure size 640x480 with 1 Axes>"
      ]
     },
     "metadata": {},
     "output_type": "display_data"
    }
   ],
   "source": [
    "from matplotlib import pyplot as plt\n",
    "\n",
    "vol = mp.Volume(mp.Vector3(0.0,0.0,0.0), mp.Vector3(8.0,8.0,0.0))\n",
    "\n",
    "%matplotlib inline\n",
    "plt.figure(dpi=100)\n",
    "sim.plot2D(fields=mp.Ez, output_plane=vol)\n",
    "plt.show()"
   ]
  },
  {
   "cell_type": "markdown",
   "metadata": {},
   "source": [
    "The green boxes represent the PML boundary layers. The black line through the middle is our waveguide. The red dot is our source.\n",
    "\n",
    "Everything looks like we would expect, so let's run the simulation."
   ]
  },
  {
   "cell_type": "markdown",
   "metadata": {},
   "source": [
    "## Simulate\n",
    "We are ready to run the simulation. We time step the fields until a time of 200:"
   ]
  },
  {
   "cell_type": "code",
   "execution_count": 9,
   "metadata": {},
   "outputs": [
    {
     "data": {
      "application/vnd.jupyter.widget-view+json": {
       "model_id": "3e43c54d08624bec88ee205643222812",
       "version_major": 2,
       "version_minor": 0
      },
      "text/plain": [
       "FloatProgress(value=0.0, description='0% done ', max=200.0)"
      ]
     },
     "metadata": {},
     "output_type": "display_data"
    },
    {
     "name": "stdout",
     "output_type": "stream",
     "text": [
      "Meep progress: 0.05/200.0 = 0.0% done in 5.3s, 21144.0s to go\n",
      "on time step 1 (time=0.05), 5.28352 s/step\n",
      "Meep progress: 3.0/200.0 = 1.5% done in 9.4s, 614.3s to go\n",
      "on time step 60 (time=3), 0.0689338 s/step\n",
      "Meep progress: 5.9/200.0 = 3.0% done in 13.4s, 439.6s to go\n",
      "on time step 118 (time=5.9), 0.0690782 s/step\n",
      "Meep progress: 8.8/200.0 = 4.4% done in 17.4s, 378.0s to go\n",
      "on time step 176 (time=8.8), 0.0695513 s/step\n",
      "Meep progress: 11.65/200.0 = 5.8% done in 21.4s, 346.3s to go\n",
      "on time step 233 (time=11.65), 0.0705998 s/step\n",
      "Meep progress: 14.55/200.0 = 7.3% done in 25.5s, 324.7s to go\n",
      "on time step 291 (time=14.55), 0.0698127 s/step\n",
      "Meep progress: 17.3/200.0 = 8.7% done in 29.5s, 311.5s to go\n",
      "on time step 346 (time=17.3), 0.0732132 s/step\n",
      "Meep progress: 20.150000000000002/200.0 = 10.1% done in 33.5s, 299.1s to go\n",
      "on time step 403 (time=20.15), 0.0703313 s/step\n",
      "Meep progress: 22.950000000000003/200.0 = 11.5% done in 37.5s, 289.4s to go\n",
      "on time step 459 (time=22.95), 0.0714491 s/step\n",
      "Meep progress: 25.8/200.0 = 12.9% done in 41.5s, 280.3s to go\n",
      "on time step 516 (time=25.8), 0.0702368 s/step\n",
      "Meep progress: 28.650000000000002/200.0 = 14.3% done in 45.5s, 272.4s to go\n",
      "on time step 573 (time=28.65), 0.0706735 s/step\n",
      "Meep progress: 31.55/200.0 = 15.8% done in 49.6s, 264.7s to go\n",
      "on time step 631 (time=31.55), 0.0695472 s/step\n",
      "Meep progress: 34.45/200.0 = 17.2% done in 53.6s, 257.6s to go\n",
      "on time step 689 (time=34.45), 0.0692548 s/step\n",
      "Meep progress: 37.300000000000004/200.0 = 18.7% done in 57.6s, 251.4s to go\n",
      "on time step 746 (time=37.3), 0.0707458 s/step\n",
      "Meep progress: 40.150000000000006/200.0 = 20.1% done in 61.7s, 245.5s to go\n",
      "on time step 803 (time=40.15), 0.0708467 s/step\n"
     ]
    },
    {
     "ename": "KeyboardInterrupt",
     "evalue": "",
     "output_type": "error",
     "traceback": [
      "\u001b[0;31m---------------------------------------------------------------------------\u001b[0m",
      "\u001b[0;31mKeyboardInterrupt\u001b[0m                         Traceback (most recent call last)",
      "Cell \u001b[0;32mIn[9], line 1\u001b[0m\n\u001b[0;32m----> 1\u001b[0m \u001b[43msim\u001b[49m\u001b[38;5;241;43m.\u001b[39;49m\u001b[43mrun\u001b[49m\u001b[43m(\u001b[49m\u001b[43muntil\u001b[49m\u001b[38;5;241;43m=\u001b[39;49m\u001b[38;5;241;43m200\u001b[39;49m\u001b[43m)\u001b[49m\n",
      "File \u001b[0;32m~/miniconda3/envs/mp/lib/python3.8/site-packages/meep/simulation.py:4536\u001b[0m, in \u001b[0;36mSimulation.run\u001b[0;34m(self, *step_funcs, **kwargs)\u001b[0m\n\u001b[1;32m   4534\u001b[0m     \u001b[38;5;28mself\u001b[39m\u001b[38;5;241m.\u001b[39m_run_sources_until(until_after_sources, step_funcs)\n\u001b[1;32m   4535\u001b[0m \u001b[38;5;28;01melif\u001b[39;00m until \u001b[38;5;129;01mis\u001b[39;00m \u001b[38;5;129;01mnot\u001b[39;00m \u001b[38;5;28;01mNone\u001b[39;00m:\n\u001b[0;32m-> 4536\u001b[0m     \u001b[38;5;28;43mself\u001b[39;49m\u001b[38;5;241;43m.\u001b[39;49m\u001b[43m_run_until\u001b[49m\u001b[43m(\u001b[49m\u001b[43muntil\u001b[49m\u001b[43m,\u001b[49m\u001b[43m \u001b[49m\u001b[43mstep_funcs\u001b[49m\u001b[43m)\u001b[49m\n\u001b[1;32m   4537\u001b[0m \u001b[38;5;28;01melse\u001b[39;00m:\n\u001b[1;32m   4538\u001b[0m     \u001b[38;5;28;01mraise\u001b[39;00m \u001b[38;5;167;01mValueError\u001b[39;00m(\u001b[38;5;124m\"\u001b[39m\u001b[38;5;124mInvalid run configuration\u001b[39m\u001b[38;5;124m\"\u001b[39m)\n",
      "File \u001b[0;32m~/miniconda3/envs/mp/lib/python3.8/site-packages/meep/simulation.py:2832\u001b[0m, in \u001b[0;36mSimulation._run_until\u001b[0;34m(self, cond, step_funcs)\u001b[0m\n\u001b[1;32m   2830\u001b[0m     \u001b[38;5;28;01mfor\u001b[39;00m func \u001b[38;5;129;01min\u001b[39;00m step_funcs:\n\u001b[1;32m   2831\u001b[0m         _eval_step_func(\u001b[38;5;28mself\u001b[39m, func, \u001b[38;5;124m\"\u001b[39m\u001b[38;5;124mstep\u001b[39m\u001b[38;5;124m\"\u001b[39m)\n\u001b[0;32m-> 2832\u001b[0m     \u001b[38;5;28;43mself\u001b[39;49m\u001b[38;5;241;43m.\u001b[39;49m\u001b[43mfields\u001b[49m\u001b[38;5;241;43m.\u001b[39;49m\u001b[43mstep\u001b[49m\u001b[43m(\u001b[49m\u001b[43m)\u001b[49m\n\u001b[1;32m   2834\u001b[0m \u001b[38;5;66;03m# Translating the recursive scheme version of run-until into an iterative version\u001b[39;00m\n\u001b[1;32m   2835\u001b[0m \u001b[38;5;66;03m# (because python isn't tail-call-optimized) means we need one extra iteration to\u001b[39;00m\n\u001b[1;32m   2836\u001b[0m \u001b[38;5;66;03m# be the same as scheme.\u001b[39;00m\n\u001b[1;32m   2837\u001b[0m \u001b[38;5;28;01mfor\u001b[39;00m func \u001b[38;5;129;01min\u001b[39;00m step_funcs:\n",
      "File \u001b[0;32m~/miniconda3/envs/mp/lib/python3.8/site-packages/meep/__init__.py:3041\u001b[0m, in \u001b[0;36mfields.step\u001b[0;34m(self)\u001b[0m\n\u001b[1;32m   3040\u001b[0m \u001b[38;5;28;01mdef\u001b[39;00m \u001b[38;5;21mstep\u001b[39m(\u001b[38;5;28mself\u001b[39m):\n\u001b[0;32m-> 3041\u001b[0m     \u001b[38;5;28;01mreturn\u001b[39;00m \u001b[43m_meep\u001b[49m\u001b[38;5;241;43m.\u001b[39;49m\u001b[43mfields_step\u001b[49m\u001b[43m(\u001b[49m\u001b[38;5;28;43mself\u001b[39;49m\u001b[43m)\u001b[49m\n",
      "\u001b[0;31mKeyboardInterrupt\u001b[0m: "
     ]
    }
   ],
   "source": [
    "sim.run(until=200)"
   ]
  },
  {
   "cell_type": "markdown",
   "metadata": {},
   "source": [
    "It should finish in less than a second. We can analyze and visualize the fields using `plot2D`:"
   ]
  },
  {
   "cell_type": "code",
   "execution_count": null,
   "metadata": {},
   "outputs": [
    {
     "data": {
      "image/png": "[encoded data removed]",
      "text/plain": [
       "<Figure size 640x480 with 1 Axes>"
      ]
     },
     "metadata": {},
     "output_type": "display_data"
    }
   ],
   "source": [
    "%matplotlib inline\n",
    "plt.figure(dpi=100)\n",
    "vol = mp.Volume(vertices=[mp.Vector3(-8.0,-8.0,0.0), mp.Vector3(8.0,-8.0,0.0),mp.Vector3(8.0,8.0,0.0), mp.Vector3(-8.0,8.0,0.0)])\n",
    "sim.plot2D(fields=mp.By, output_plane=vol)\n",
    "plt.show()"
   ]
  },
  {
   "cell_type": "markdown",
   "metadata": {},
   "source": [
    "We can see the `Ez` component of the fields superimposed on the previous domain plot. We can choose to plot any of the six field components specified earlier."
   ]
  },
  {
   "cell_type": "markdown",
   "metadata": {},
   "source": [
    "## Animation\n",
    "Often, we want to track the evolution of the fields as a function of time. This helps us ensure the fields are propogating as we would expect.\n",
    "\n",
    "We can easily accomplish this using a `run` function. Run functions are passed to the `sim.run()` method and can be called every time step. The `Animate2D()` run function can be used to generate an animation object by grabbing frames from an arbitrary number of time steps.\n",
    "\n",
    "We need to pass the `sim` object we created, specify which `fields` component we are interested in tracking, specify how often we want to record the fields, and whether to plot everything in real time. For this simulation, let's look at the `Ez` fields and take a snapshot every 1 time units. \n",
    "\n",
    "Unfortunately, Jupyter notebooks don't render realtime figure updates natively, so we'll turn this feature off and just view the animation after it runs.\n",
    "\n",
    "We also want to restart the field propogation by calling `reset_sim()`."
   ]
  },
  {
   "cell_type": "code",
   "execution_count": null,
   "metadata": {},
   "outputs": [],
   "source": [
    "sim.reset_meep()\n",
    "f = plt.figure(dpi=100)\n",
    "Animate = mp.Animate2D(fields=mp.Ez, f=f, realtime=False, normalize=True, output_plane=vol)\n",
    "plt.close()"
   ]
  },
  {
   "cell_type": "markdown",
   "metadata": {},
   "source": [
    "Once defined, we can pass it along with our original argument, `until`. This time, however, we'll just run until 50 time units. We'll tell meep to record the field information every 1 time unit by using the `at_every()` run function modifier."
   ]
  },
  {
   "cell_type": "code",
   "execution_count": null,
   "metadata": {},
   "outputs": [
    {
     "name": "stdout",
     "output_type": "stream",
     "text": [
      "-----------\n",
      "Initializing structure...\n",
      "time for choose_chunkdivision = 0.00181699 s\n",
      "Working in 3D dimensions.\n",
      "Computational cell is 16 x 16 x 16 with resolution 10\n",
      "time for set_epsilon = 5.95244 s\n",
      "-----------\n"
     ]
    },
    {
     "data": {
      "application/vnd.jupyter.widget-view+json": {
       "model_id": "5df263ef28444d36907c08f45fcbfbd8",
       "version_major": 2,
       "version_minor": 0
      },
      "text/plain": [
       "FloatProgress(value=0.0, description='0% done ')"
      ]
     },
     "metadata": {},
     "output_type": "display_data"
    },
    {
     "name": "stdout",
     "output_type": "stream",
     "text": [
      "Meep progress: 0.05/100.0 = 0.1% done in 5.9s, 11697.2s to go\n",
      "on time step 1 (time=0.05), 5.84563 s/step\n",
      "Meep progress: 2.7/100.0 = 2.7% done in 9.9s, 357.1s to go\n",
      "on time step 54 (time=2.7), 0.0765294 s/step\n",
      "Meep progress: 5.550000000000001/100.0 = 5.6% done in 14.0s, 237.9s to go\n",
      "on time step 111 (time=5.55), 0.0714134 s/step\n",
      "Meep progress: 8.3/100.0 = 8.3% done in 18.0s, 199.4s to go\n",
      "on time step 166 (time=8.3), 0.0739562 s/step\n",
      "Meep progress: 11.05/100.0 = 11.1% done in 22.1s, 177.5s to go\n",
      "on time step 221 (time=11.05), 0.0727757 s/step\n",
      "Meep progress: 13.700000000000001/100.0 = 13.7% done in 26.1s, 164.4s to go\n",
      "on time step 274 (time=13.7), 0.0764387 s/step\n",
      "Meep progress: 16.35/100.0 = 16.4% done in 30.1s, 154.2s to go\n",
      "on time step 327 (time=16.35), 0.0762546 s/step\n",
      "Meep progress: 19.150000000000002/100.0 = 19.2% done in 34.2s, 144.4s to go\n",
      "on time step 383 (time=19.15), 0.0724417 s/step\n",
      "Meep progress: 21.950000000000003/100.0 = 22.0% done in 38.3s, 136.1s to go\n",
      "on time step 439 (time=21.95), 0.0724983 s/step\n",
      "Meep progress: 24.700000000000003/100.0 = 24.7% done in 42.3s, 128.9s to go\n",
      "on time step 494 (time=24.7), 0.0729114 s/step\n",
      "Meep progress: 27.5/100.0 = 27.5% done in 46.3s, 122.1s to go\n",
      "on time step 550 (time=27.5), 0.0722185 s/step\n",
      "Meep progress: 30.25/100.0 = 30.2% done in 50.4s, 116.2s to go\n",
      "on time step 605 (time=30.25), 0.073718 s/step\n",
      "Meep progress: 33.1/100.0 = 33.1% done in 54.4s, 110.0s to go\n",
      "on time step 662 (time=33.1), 0.0714398 s/step\n",
      "Meep progress: 35.800000000000004/100.0 = 35.8% done in 58.5s, 104.9s to go\n",
      "on time step 716 (time=35.8), 0.0747337 s/step\n",
      "Meep progress: 38.6/100.0 = 38.6% done in 62.5s, 99.5s to go\n",
      "on time step 772 (time=38.6), 0.0721717 s/step\n",
      "Meep progress: 41.35/100.0 = 41.4% done in 66.6s, 94.5s to go\n",
      "on time step 827 (time=41.35), 0.0739017 s/step\n",
      "Meep progress: 44.150000000000006/100.0 = 44.2% done in 70.6s, 89.3s to go\n",
      "on time step 883 (time=44.15), 0.071986 s/step\n",
      "Meep progress: 46.95/100.0 = 47.0% done in 74.6s, 84.3s to go\n",
      "on time step 939 (time=46.95), 0.0718273 s/step\n",
      "Meep progress: 49.75/100.0 = 49.8% done in 78.7s, 79.5s to go\n",
      "on time step 995 (time=49.75), 0.0724535 s/step\n",
      "Meep progress: 52.5/100.0 = 52.5% done in 82.7s, 74.8s to go\n",
      "on time step 1050 (time=52.5), 0.0730197 s/step\n",
      "Meep progress: 55.2/100.0 = 55.2% done in 86.8s, 70.4s to go\n",
      "on time step 1104 (time=55.2), 0.07528 s/step\n",
      "Meep progress: 57.95/100.0 = 58.0% done in 90.8s, 65.9s to go\n",
      "on time step 1159 (time=57.95), 0.0727476 s/step\n",
      "Meep progress: 60.75/100.0 = 60.8% done in 94.9s, 61.3s to go\n",
      "on time step 1215 (time=60.75), 0.0728532 s/step\n",
      "Meep progress: 63.5/100.0 = 63.5% done in 98.9s, 56.8s to go\n",
      "on time step 1270 (time=63.5), 0.0732574 s/step\n",
      "Meep progress: 66.25/100.0 = 66.2% done in 102.9s, 52.4s to go\n",
      "on time step 1325 (time=66.25), 0.0731099 s/step\n",
      "Meep progress: 69.05/100.0 = 69.0% done in 107.0s, 48.0s to go\n",
      "on time step 1381 (time=69.05), 0.07248 s/step\n",
      "Meep progress: 71.8/100.0 = 71.8% done in 111.0s, 43.6s to go\n",
      "on time step 1436 (time=71.8), 0.0733074 s/step\n",
      "Meep progress: 74.5/100.0 = 74.5% done in 115.0s, 39.4s to go\n",
      "on time step 1490 (time=74.5), 0.0746881 s/step\n",
      "Meep progress: 77.2/100.0 = 77.2% done in 119.1s, 35.2s to go\n",
      "on time step 1544 (time=77.2), 0.074404 s/step\n",
      "Meep progress: 79.9/100.0 = 79.9% done in 123.1s, 31.0s to go\n",
      "on time step 1598 (time=79.9), 0.0748494 s/step\n",
      "Meep progress: 82.7/100.0 = 82.7% done in 127.2s, 26.6s to go\n",
      "on time step 1654 (time=82.7), 0.0722814 s/step\n",
      "Meep progress: 85.45/100.0 = 85.5% done in 131.2s, 22.3s to go\n",
      "on time step 1709 (time=85.45), 0.0735905 s/step\n",
      "Meep progress: 88.2/100.0 = 88.2% done in 135.2s, 18.1s to go\n",
      "on time step 1764 (time=88.2), 0.0732654 s/step\n",
      "Meep progress: 90.85000000000001/100.0 = 90.9% done in 139.2s, 14.0s to go\n",
      "on time step 1817 (time=90.85), 0.0754951 s/step\n",
      "Meep progress: 93.60000000000001/100.0 = 93.6% done in 143.3s, 9.8s to go\n",
      "on time step 1872 (time=93.6), 0.073905 s/step\n",
      "Meep progress: 96.30000000000001/100.0 = 96.3% done in 147.3s, 5.7s to go\n",
      "on time step 1926 (time=96.3), 0.0744739 s/step\n",
      "Meep progress: 99.10000000000001/100.0 = 99.1% done in 151.3s, 1.4s to go\n",
      "on time step 1982 (time=99.1), 0.0714706 s/step\n",
      "Normalizing field data...\n",
      "run 1 finished at t = 100.0 (2000 timesteps)\n"
     ]
    }
   ],
   "source": [
    "sim.run(mp.at_every(1, Animate), until=100)\n",
    "plt.close()"
   ]
  },
  {
   "cell_type": "markdown",
   "metadata": {},
   "source": [
    "Now that we've run the simulation, we can postprocess the animation and export it to an mp4 video using the `to_mp4()` method. We'll specify a filename and 10 frames-per-second (`fps`)."
   ]
  },
  {
   "cell_type": "code",
   "execution_count": null,
   "metadata": {},
   "outputs": [
    {
     "name": "stdout",
     "output_type": "stream",
     "text": [
      "Generating MP4...\n"
     ]
    }
   ],
   "source": [
    "filename = \"video.mp4\"\n",
    "Animate.to_mp4(10, filename)"
   ]
  },
  {
   "cell_type": "markdown",
   "metadata": {},
   "source": [
    "Finally, we can use some iPython tools to visualize the animation natively."
   ]
  },
  {
   "cell_type": "code",
   "execution_count": null,
   "metadata": {},
   "outputs": [
    {
     "data": {
      "text/html": [
       "<video src=\"media/straight_waveguide.mp4\" controls  >\n",
       "      Your browser does not support the <code>video</code> element.\n",
       "    </video>"
      ],
      "text/plain": [
       "<IPython.core.display.Video object>"
      ]
     },
     "execution_count": 35,
     "metadata": {},
     "output_type": "execute_result"
    }
   ],
   "source": [
    "from IPython.display import Video\n",
    "\n",
    "Video(filename)"
   ]
  },
  {
   "cell_type": "markdown",
   "metadata": {},
   "source": [
    "As expected, the fields propogate down the waveguide."
   ]
  }
 ],
 "metadata": {
  "kernelspec": {
   "display_name": "Python 3",
   "language": "python",
   "name": "python3"
  },
  "language_info": {
   "codemirror_mode": {
    "name": "ipython",
    "version": 3
   },
   "file_extension": ".py",
   "mimetype": "text/x-python",
   "name": "python",
   "nbconvert_exporter": "python",
   "pygments_lexer": "ipython3",
   "version": "3.8.19"
  },
  "toc": {
   "base_numbering": 1,
   "nav_menu": {},
   "number_sections": true,
   "sideBar": true,
   "skip_h1_title": false,
   "title_cell": "Table of Contents",
   "title_sidebar": "Contents",
   "toc_cell": false,
   "toc_position": {},
   "toc_section_display": true,
   "toc_window_display": false
  }
 },
 "nbformat": 4,
 "nbformat_minor": 2
}
